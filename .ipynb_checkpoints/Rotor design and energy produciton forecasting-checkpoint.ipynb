{
 "cells": [
  {
   "cell_type": "markdown",
   "metadata": {},
   "source": [
    "<font size=\"6\" color='red'>Rotor design and energy produciton forecasting over a year</font>"
   ]
  },
  {
   "cell_type": "code",
   "execution_count": 1,
   "metadata": {},
   "outputs": [],
   "source": [
    "import pandas as pd\n",
    "import matplotlib.pyplot as plt\n",
    "%matplotlib inline\n",
    "import math\n",
    "from sympy import *"
   ]
  },
  {
   "cell_type": "markdown",
   "metadata": {},
   "source": [
    "<font size=\"6\" color='red'>Question 1</font>"
   ]
  },
  {
   "cell_type": "code",
   "execution_count": 2,
   "metadata": {},
   "outputs": [],
   "source": [
    "blade_number = 3"
   ]
  },
  {
   "cell_type": "markdown",
   "metadata": {},
   "source": [
    "<font size=\"5\" color='blue'>Reading of CL data</font>"
   ]
  },
  {
   "cell_type": "code",
   "execution_count": 3,
   "metadata": {},
   "outputs": [
    {
     "name": "stdout",
     "output_type": "stream",
     "text": [
      "        R=1e4   R=2e4   R=4e4   R=8e4  R=1.6e5  R=3.6e5   R=7e5   R=1e6  \\\n",
      "alpha                                                                     \n",
      "0      0.0000  0.0000  0.0000  0.0000   0.0000   0.0000  0.0000  0.0000   \n",
      "1     -0.0045  0.0607  0.0936  0.0889   0.1100   0.1100  0.1100  0.1100   \n",
      "2     -0.0154  0.1135  0.1833  0.1935   0.2200   0.2200  0.2200  0.2200   \n",
      "3     -0.0233  0.1550  0.2688  0.2924   0.3088   0.3300  0.3300  0.3300   \n",
      "4     -0.0368  0.1788  0.3495  0.3880   0.4114   0.4400  0.4400  0.4400   \n",
      "5     -0.0577  0.1788  0.4117  0.4753   0.5068   0.5240  0.5500  0.5500   \n",
      "6     -0.0839  0.1582  0.4573  0.5615   0.5960   0.6228  0.6328  0.6600   \n",
      "7     -0.1182  0.1161  0.4768  0.6224   0.6724   0.7100  0.7291  0.7362   \n",
      "8     -0.1501  0.0214  0.4428  0.6589   0.7373   0.7879  0.8156  0.8256   \n",
      "9     -0.1584 -0.0682  0.3544  0.6606   0.7781   0.8526  0.8904  0.9067   \n",
      "10    -0.1423 -0.1003  0.2108  0.6248   0.7949   0.8983  0.9541  0.9755   \n",
      "11    -0.1095 -0.0812  0.1124  0.5328   0.7719   0.9131  0.9893  1.0206   \n",
      "12    -0.0767 -0.0602  0.0139  0.4408   0.7488   0.9279  1.0245  1.0664   \n",
      "13    -0.0341 -0.0202  0.0313  0.3332   0.6863   0.9011  1.0210  1.0729   \n",
      "14     0.0085  0.0172  0.0489  0.2256   0.6237   0.8803  1.0175  1.0793   \n",
      "15     0.0568  0.0643  0.0888  0.2142   0.5567   0.8405  0.9912  1.0598   \n",
      "16     0.1051  0.1114  0.1287  0.2027   0.4896   0.8007  0.9648  1.0402   \n",
      "17     0.1561  0.1617  0.1754  0.2315   0.4549   0.7663  0.9399  0.9981   \n",
      "18     0.2070  0.2120  0.2228  0.2603   0.4202   0.7319  0.9150  0.9559   \n",
      "19     0.2591  0.2636  0.2731  0.3038   0.4292   0.7158  0.9014  0.9633   \n",
      "20     0.3111  0.3151  0.3236  0.3472   0.4382   0.6997  0.8877  0.9707   \n",
      "21     0.3642  0.3675  0.3751  0.3951   0.4704   0.7024  0.8872  0.9702   \n",
      "22     0.4172  0.4198  0.4265  0.4430   0.5026   0.7050  0.8867  0.9696   \n",
      "23     0.4706  0.4731  0.4790  0.4941   0.5458   0.7275  0.9020  0.9833   \n",
      "24     0.5241  0.5265  0.5315  0.5452   0.5889   0.7499  0.9173  0.9970   \n",
      "25     0.5775  0.5798  0.5840  0.5963   0.6321   0.7724  0.9626  1.0107   \n",
      "26     0.6330  0.6348  0.6382  0.6440   0.6767   0.7889  0.9171  0.9796   \n",
      "27     0.6885  0.6899  0.6924  0.6998   0.7213   0.8054  0.9016  0.9484   \n",
      "30     0.8550  0.8550  0.8550  0.8550   0.8550   0.8550  0.8550  0.8550   \n",
      "35     0.9800  0.9800  0.9800  0.9800   0.9800   0.9800  0.9800  0.9800   \n",
      "40     1.0350  1.0350  1.0350  1.0350   1.0350   1.0350  1.0350  1.0350   \n",
      "45     1.0500  1.0500  1.0500  1.0500   1.0500   1.0500  1.0500  1.0500   \n",
      "50     1.0200  1.0200  1.0200  1.0200   1.0200   1.0200  1.0200  1.0200   \n",
      "55     0.9550  0.9550  0.9550  0.9550   0.9550   0.9550  0.9550  0.9550   \n",
      "60     0.8750  0.8750  0.8750  0.8750   0.8750   0.8750  0.8750  0.8750   \n",
      "65     0.7600  0.7600  0.7600  0.7600   0.7600   0.7600  0.7600  0.7600   \n",
      "70     0.6300  0.6300  0.6300  0.6300   0.6300   0.6300  0.6300  0.6300   \n",
      "75     0.5000  0.5000  0.5000  0.5000   0.5000   0.5000  0.5000  0.5000   \n",
      "80     0.3650  0.3650  0.3650  0.3650   0.3650   0.3650  0.3650  0.3650   \n",
      "85     0.2300  0.2300  0.2300  0.2300   0.2300   0.2300  0.2300  0.2300   \n",
      "90     0.0900  0.0900  0.0900  0.0900   0.0900   0.0900  0.0900  0.0900   \n",
      "95    -0.0500 -0.0500 -0.0500 -0.0500  -0.0500  -0.0500 -0.0500 -0.0500   \n",
      "100   -0.1850 -0.1850 -0.1850 -0.1850  -0.1850  -0.1850 -0.1850 -0.1850   \n",
      "105   -0.3200 -0.3200 -0.3200 -0.3200  -0.3200  -0.3200 -0.3200 -0.3200   \n",
      "110   -0.4500 -0.4500 -0.4500 -0.4500  -0.4500  -0.4500 -0.4500 -0.4500   \n",
      "115   -0.5750 -0.5750 -0.5750 -0.5750  -0.5750  -0.5750 -0.5750 -0.5750   \n",
      "120   -0.6700 -0.6700 -0.6700 -0.6700  -0.6700  -0.6700 -0.6700 -0.6700   \n",
      "125   -0.7600 -0.7600 -0.7600 -0.7600  -0.7600  -0.7600 -0.7600 -0.7600   \n",
      "130   -0.8500 -0.8500 -0.8500 -0.8500  -0.8500  -0.8500 -0.8500 -0.8500   \n",
      "135   -0.9300 -0.9300 -0.9300 -0.9300  -0.9300  -0.9300 -0.9300 -0.9300   \n",
      "140   -0.9800 -0.9800 -0.9800 -0.9800  -0.9800  -0.9800 -0.9800 -0.9800   \n",
      "145   -0.9000 -0.9000 -0.9000 -0.9000  -0.9000  -0.9000 -0.9000 -0.9000   \n",
      "150   -0.7700 -0.7700 -0.7700 -0.7700  -0.7700  -0.7700 -0.7700 -0.7700   \n",
      "155   -0.6700 -0.6700 -0.6700 -0.6700  -0.6700  -0.6700 -0.6700 -0.6700   \n",
      "160   -0.6350 -0.6350 -0.6350 -0.6350  -0.6350  -0.6350 -0.6350 -0.6350   \n",
      "165   -0.6800 -0.6800 -0.6800 -0.6800  -0.6800  -0.6800 -0.6800 -0.6800   \n",
      "170   -0.8500 -0.8500 -0.8500 -0.8500  -0.8500  -0.8500 -0.8500 -0.8500   \n",
      "175   -0.6600 -0.6600 -0.6600 -0.6600  -0.6600  -0.6600 -0.6600 -0.6600   \n",
      "180    0.0000  0.0000  0.0000  0.0000   0.0000   0.0000  0.0000  0.0000   \n",
      "\n",
      "        R=2e6   R=5e6   R=1e7  \n",
      "alpha                          \n",
      "0      0.0000  0.0000  0.0000  \n",
      "1      0.1100  0.1100  0.1100  \n",
      "2      0.2200  0.2200  0.2200  \n",
      "3      0.3300  0.3300  0.3300  \n",
      "4      0.4400  0.4400  0.4400  \n",
      "5      0.5500  0.5500  0.5500  \n",
      "6      0.6600  0.6600  0.6600  \n",
      "7      0.7449  0.7700  0.7700  \n",
      "8      0.8439  0.8538  0.8538  \n",
      "9      0.9314  0.9525  0.9525  \n",
      "10     1.0111  1.0404  1.0404  \n",
      "11     1.0704  1.1144  1.1144  \n",
      "12     1.1296  1.1884  1.1884  \n",
      "13     1.1555  1.2346  1.2346  \n",
      "14     1.1813  1.2808  1.2808  \n",
      "15     1.1754  1.2938  1.2938  \n",
      "16     1.1695  1.3067  1.3067  \n",
      "17     1.1539  1.3014  1.3014  \n",
      "18     1.1383  1.2960  1.2960  \n",
      "19     1.1278  1.2864  1.2864  \n",
      "20     1.1112  1.2768  1.2768  \n",
      "21     1.1150  1.2741  1.2741  \n",
      "22     1.1127  1.2714  1.2714  \n",
      "23     1.1241  1.2784  1.2784  \n",
      "24     1.1354  1.2855  1.2855  \n",
      "25     1.1468  1.2925  1.2925  \n",
      "26     1.0884  1.2050  1.2050  \n",
      "27     1.0301  1.1175  1.1175  \n",
      "30     0.8550  0.8550  0.8550  \n",
      "35     0.9800  0.9800  0.9800  \n",
      "40     1.0350  1.0350  1.0350  \n",
      "45     1.0500  1.0500  1.0500  \n",
      "50     1.0200  1.0200  1.0200  \n",
      "55     0.9550  0.9550  0.9550  \n",
      "60     0.8750  0.8750  0.8750  \n",
      "65     0.7600  0.7600  0.7600  \n",
      "70     0.6300  0.6300  0.6300  \n",
      "75     0.5000  0.5000  0.5000  \n",
      "80     0.3650  0.3650  0.3650  \n",
      "85     0.2300  0.2300  0.2300  \n",
      "90     0.0900  0.0900  0.0900  \n",
      "95    -0.0500 -0.0500 -0.0500  \n",
      "100   -0.1850 -0.1850 -0.1850  \n",
      "105   -0.3200 -0.3200 -0.3200  \n",
      "110   -0.4500 -0.4500 -0.4500  \n",
      "115   -0.5750 -0.5750 -0.5750  \n",
      "120   -0.6700 -0.6700 -0.6700  \n",
      "125   -0.7600 -0.7600 -0.7600  \n",
      "130   -0.8500 -0.8500 -0.8500  \n",
      "135   -0.9300 -0.9300 -0.9300  \n",
      "140   -0.9800 -0.9800 -0.9800  \n",
      "145   -0.9000 -0.9000 -0.9000  \n",
      "150   -0.7700 -0.7700 -0.7700  \n",
      "155   -0.6700 -0.6700 -0.6700  \n",
      "160   -0.6350 -0.6350 -0.6350  \n",
      "165   -0.6800 -0.6800 -0.6800  \n",
      "170   -0.8500 -0.8500 -0.8500  \n",
      "175   -0.6600 -0.6600 -0.6600  \n",
      "180    0.0000  0.0000  0.0000  \n"
     ]
    }
   ],
   "source": [
    "cl = pd.read_csv('data/CL-NACA18.txt',  delimiter=r\"\\s+\", index_col=0)\n",
    "print (cl)"
   ]
  },
  {
   "cell_type": "markdown",
   "metadata": {},
   "source": [
    "<font size=\"5\" color='blue'>Plot of CL data</font>"
   ]
  },
  {
   "cell_type": "code",
   "execution_count": 4,
   "metadata": {},
   "outputs": [
    {
     "data": {
      "image/png": "[encoded data removed]",
      "text/plain": [
       "<Figure size 432x288 with 1 Axes>"
      ]
     },
     "metadata": {
      "needs_background": "light"
     },
     "output_type": "display_data"
    }
   ],
   "source": [
    "plt.figure()\n",
    "plt.plot(cl[\"R=2e6\"])\n",
    "plt.suptitle(\"Figure 1: CL vs Alpha\")\n",
    "plt.legend()\n",
    "plt.savefig('imgs/CL.png')\n",
    "plt.show()"
   ]
  },
  {
   "cell_type": "markdown",
   "metadata": {},
   "source": [
    "<font size=\"5\" color='blue'>Reading of CD data</font>"
   ]
  },
  {
   "cell_type": "code",
   "execution_count": 5,
   "metadata": {
    "scrolled": true
   },
   "outputs": [
    {
     "name": "stdout",
     "output_type": "stream",
     "text": [
      "        R=1e4   R=2e4   R=4e4   R=8e4  R=1.6e5  R=3.6e5   R=7e5   R=1e6  \\\n",
      "alpha                                                                     \n",
      "0      0.0385  0.0286  0.0214  0.0162   0.0128   0.0101  0.0085  0.0082   \n",
      "1      0.0387  0.0288  0.0215  0.0163   0.0129   0.0102  0.0087  0.0082   \n",
      "2      0.0391  0.0292  0.0219  0.0167   0.0131   0.0104  0.0088  0.0083   \n",
      "3      0.0399  0.0299  0.0225  0.0172   0.0137   0.0107  0.0091  0.0086   \n",
      "4      0.0410  0.0310  0.0235  0.0181   0.0144   0.0112  0.0096  0.0089   \n",
      "5      0.0425  0.0323  0.0247  0.0192   0.0153   0.0121  0.0102  0.0095   \n",
      "6      0.0443  0.0339  0.0263  0.0206   0.0166   0.0132  0.0112  0.0102   \n",
      "7      0.0463  0.0358  0.0282  0.0223   0.0181   0.0145  0.0123  0.0115   \n",
      "8      0.0489  0.0376  0.0303  0.0242   0.0198   0.0159  0.0136  0.0126   \n",
      "9      0.0525  0.0396  0.0327  0.0264   0.0217   0.0176  0.0150  0.0139   \n",
      "10     0.0574  0.0630  0.0620  0.0288   0.0238   0.0194  0.0166  0.0154   \n",
      "11     0.0902  0.0930  0.0915  0.0544   0.0263   0.0215  0.0184  0.0171   \n",
      "12     0.1230  0.1230  0.1230  0.0800   0.0288   0.0235  0.0202  0.0187   \n",
      "13     0.1405  0.1405  0.1395  0.1190   0.0934   0.0588  0.0224  0.0207   \n",
      "14     0.1580  0.1580  0.1580  0.1580   0.1580   0.0940  0.0245  0.0227   \n",
      "15     0.1770  0.1770  0.1770  0.1770   0.1770   0.1450  0.1103  0.0654   \n",
      "16     0.1960  0.1960  0.1960  0.1960   0.1960   0.1960  0.1960  0.1080   \n",
      "17     0.2170  0.2170  0.2170  0.2170   0.2170   0.2170  0.2170  0.1730   \n",
      "18     0.2380  0.2380  0.2380  0.2380   0.2380   0.2380  0.2380  0.2380   \n",
      "19     0.2600  0.2600  0.2600  0.2600   0.2600   0.2600  0.2600  0.2600   \n",
      "20     0.2820  0.2820  0.2820  0.2820   0.2820   0.2820  0.2820  0.2820   \n",
      "21     0.3055  0.3055  0.3055  0.3055   0.3055   0.3055  0.3055  0.3055   \n",
      "22     0.3290  0.3290  0.3290  0.3290   0.3290   0.3290  0.3290  0.3290   \n",
      "23     0.3543  0.3543  0.3543  0.3543   0.3543   0.3543  0.3543  0.3543   \n",
      "24     0.3797  0.3797  0.3797  0.3797   0.3797   0.3797  0.3797  0.3797   \n",
      "25     0.4050  0.4050  0.4050  0.4050   0.4050   0.4050  0.4050  0.4050   \n",
      "26     0.4380  0.4380  0.4380  0.4380   0.4380   0.4380  0.4380  0.4380   \n",
      "27     0.4710  0.4710  0.4710  0.4710   0.4710   0.4710  0.4710  0.4710   \n",
      "30     0.5700  0.5700  0.5700  0.5700   0.5700   0.5700  0.5700  0.5700   \n",
      "35     0.7450  0.7450  0.7450  0.7450   0.7450   0.7450  0.7450  0.7450   \n",
      "40     0.9200  0.9200  0.9200  0.9200   0.9200   0.9200  0.9200  0.9200   \n",
      "45     1.0750  1.0750  1.0750  1.0750   1.0750   1.0750  1.0750  1.0750   \n",
      "50     1.2150  1.2150  1.2150  1.2150   1.2150   1.2150  1.2150  1.2150   \n",
      "55     1.3450  1.3450  1.3450  1.3450   1.3450   1.3450  1.3450  1.3450   \n",
      "60     1.4700  1.4700  1.4700  1.4700   1.4700   1.4700  1.4700  1.4700   \n",
      "65     1.5750  1.5750  1.5750  1.5750   1.5750   1.5750  1.5750  1.5750   \n",
      "70     1.6650  1.6650  1.6650  1.6650   1.6650   1.6650  1.6650  1.6650   \n",
      "75     1.7350  1.7350  1.7350  1.7350   1.7350   1.7350  1.7350  1.7350   \n",
      "80     1.7800  1.7800  1.7800  1.7800   1.7800   1.7800  1.7800  1.7800   \n",
      "85     1.8000  1.8000  1.8000  1.8000   1.8000   1.8000  1.8000  1.8000   \n",
      "90     1.8000  1.8000  1.8000  1.8000   1.8000   1.8000  1.8000  1.8000   \n",
      "95     1.7800  1.7800  1.7800  1.7800   1.7800   1.7800  1.7800  1.7800   \n",
      "100    1.7500  1.7500  1.7500  1.7500   1.7500   1.7500  1.7500  1.7500   \n",
      "105    1.7000  1.7000  1.7000  1.7000   1.7000   1.7000  1.7000  1.7000   \n",
      "110    1.6350  1.6350  1.6350  1.6350   1.6350   1.6350  1.6350  1.6350   \n",
      "115    1.5550  1.5550  1.5550  1.5550   1.5550   1.5550  1.5550  1.5550   \n",
      "120    1.4650  1.4650  1.4650  1.4650   1.4650   1.4650  1.4650  1.4650   \n",
      "125    1.3500  1.3500  1.3500  1.3500   1.3500   1.3500  1.3500  1.3500   \n",
      "130    1.2250  1.2250  1.2250  1.2250   1.2250   1.2250  1.2250  1.2250   \n",
      "135    1.0850  1.0850  1.0850  1.0850   1.0850   1.0850  1.0850  1.0850   \n",
      "140    0.9250  0.9250  0.9250  0.9250   0.9250   0.9250  0.9250  0.9250   \n",
      "145    0.7750  0.7750  0.7750  0.7750   0.7750   0.7750  0.7750  0.7750   \n",
      "150    0.5750  0.5750  0.5750  0.5750   0.5750   0.5750  0.5750  0.5750   \n",
      "155    0.4200  0.4200  0.4200  0.4200   0.4200   0.4200  0.4200  0.4200   \n",
      "160    0.3200  0.3200  0.3200  0.3200   0.3200   0.3200  0.3200  0.3200   \n",
      "165    0.2300  0.2300  0.2300  0.2300   0.2300   0.2300  0.2300  0.2300   \n",
      "170    0.1400  0.1400  0.1400  0.1400   0.1400   0.1400  0.1400  0.1400   \n",
      "175    0.0550  0.0550  0.0550  0.0550   0.0550   0.0550  0.0550  0.0550   \n",
      "180    0.0250  0.0250  0.0250  0.0250   0.0250   0.0250  0.0250  0.0250   \n",
      "\n",
      "        R=2e6   R=5e6   R=1e7  \n",
      "alpha                          \n",
      "0      0.0077  0.0073  0.0073  \n",
      "1      0.0077  0.0073  0.0073  \n",
      "2      0.0078  0.0075  0.0075  \n",
      "3      0.0080  0.0077  0.0077  \n",
      "4      0.0084  0.0079  0.0079  \n",
      "5      0.0087  0.0083  0.0083  \n",
      "6      0.0093  0.0087  0.0087  \n",
      "7      0.0101  0.0093  0.0093  \n",
      "8      0.0111  0.0100  0.0100  \n",
      "9      0.0122  0.0108  0.0108  \n",
      "10     0.0134  0.0117  0.0117  \n",
      "11     0.0149  0.0129  0.0129  \n",
      "12     0.0163  0.0140  0.0140  \n",
      "13     0.0180  0.0150  0.0150  \n",
      "14     0.0197  0.0168  0.0168  \n",
      "15     0.0219  0.0182  0.0182  \n",
      "16     0.0240  0.0203  0.0203  \n",
      "17     0.1310  0.0224  0.0224  \n",
      "18     0.2380  0.0244  0.0244  \n",
      "19     0.2600  0.1532  0.1532  \n",
      "20     0.2820  0.2820  0.2820  \n",
      "21     0.3055  0.3055  0.3055  \n",
      "22     0.3290  0.3290  0.3290  \n",
      "23     0.3543  0.3543  0.3543  \n",
      "24     0.3797  0.3797  0.3797  \n",
      "25     0.4050  0.4050  0.4050  \n",
      "26     0.4380  0.4380  0.4380  \n",
      "27     0.4710  0.4710  0.4710  \n",
      "30     0.5700  0.5700  0.5700  \n",
      "35     0.7450  0.7450  0.7450  \n",
      "40     0.9200  0.9200  0.9200  \n",
      "45     1.0750  1.0750  1.0750  \n",
      "50     1.2150  1.2150  1.2150  \n",
      "55     1.3450  1.3450  1.3450  \n",
      "60     1.4700  1.4700  1.4700  \n",
      "65     1.5750  1.5750  1.5750  \n",
      "70     1.6650  1.6650  1.6650  \n",
      "75     1.7350  1.7350  1.7350  \n",
      "80     1.7800  1.7800  1.7800  \n",
      "85     1.8000  1.8000  1.8000  \n",
      "90     1.8000  1.8000  1.8000  \n",
      "95     1.7800  1.7800  1.7800  \n",
      "100    1.7500  1.7500  1.7500  \n",
      "105    1.7000  1.7000  1.7000  \n",
      "110    1.6350  1.6350  1.6350  \n",
      "115    1.5550  1.5550  1.5550  \n",
      "120    1.4650  1.4650  1.4650  \n",
      "125    1.3500  1.3500  1.3500  \n",
      "130    1.2250  1.2250  1.2250  \n",
      "135    1.0850  1.0850  1.0850  \n",
      "140    0.9250  0.9250  0.9250  \n",
      "145    0.7750  0.7750  0.7750  \n",
      "150    0.5750  0.5750  0.5750  \n",
      "155    0.4200  0.4200  0.4200  \n",
      "160    0.3200  0.3200  0.3200  \n",
      "165    0.2300  0.2300  0.2300  \n",
      "170    0.1400  0.1400  0.1400  \n",
      "175    0.0550  0.0550  0.0550  \n",
      "180    0.0250  0.0250  0.0250  \n"
     ]
    }
   ],
   "source": [
    "cd = pd.read_csv('data/CD-NACA18_OK.txt',  delimiter=r\"\\s+\", index_col=0)\n",
    "print (cd)"
   ]
  },
  {
   "cell_type": "markdown",
   "metadata": {},
   "source": [
    "<font size=\"5\" color='blue'>Plot of CD data</font>"
   ]
  },
  {
   "cell_type": "code",
   "execution_count": 6,
   "metadata": {
    "scrolled": true
   },
   "outputs": [
    {
     "data": {
      "image/png": "[encoded data removed]",
      "text/plain": [
       "<Figure size 432x288 with 1 Axes>"
      ]
     },
     "metadata": {
      "needs_background": "light"
     },
     "output_type": "display_data"
    }
   ],
   "source": [
    "plt.figure()\n",
    "plt.plot(cd[\"R=2e6\"])\n",
    "plt.suptitle(\"Figure 2: CD vs Alpha\")\n",
    "plt.legend()\n",
    "plt.savefig('imgs/CD.png')\n",
    "plt.show()"
   ]
  },
  {
   "cell_type": "markdown",
   "metadata": {},
   "source": [
    "<font size=\"5\" color='blue'>Plot of CL/CD</font>"
   ]
  },
  {
   "cell_type": "code",
   "execution_count": 7,
   "metadata": {},
   "outputs": [
    {
     "data": {
      "image/png": "[encoded data removed]",
      "text/plain": [
       "<Figure size 432x288 with 1 Axes>"
      ]
     },
     "metadata": {
      "needs_background": "light"
     },
     "output_type": "display_data"
    }
   ],
   "source": [
    "div = cl[\"R=2e6\"] / cd[\"R=2e6\"]\n",
    "plt.figure()\n",
    "plt.plot(div)\n",
    "plt.suptitle(\"Figure 3: CL/CD vs Alpha\")\n",
    "plt.legend()\n",
    "plt.savefig('imgs/CL_CD.png')\n",
    "plt.show()"
   ]
  },
  {
   "cell_type": "markdown",
   "metadata": {},
   "source": [
    "<font size=\"6\" color='yellow'>Analysis 0°-25°</font>"
   ]
  },
  {
   "cell_type": "markdown",
   "metadata": {},
   "source": [
    "<font size=\"5\" color='blue'>Plot of CL 0°-25°</font>"
   ]
  },
  {
   "cell_type": "code",
   "execution_count": 8,
   "metadata": {},
   "outputs": [
    {
     "data": {
      "image/png": "[encoded data removed]",
      "text/plain": [
       "<Figure size 432x288 with 1 Axes>"
      ]
     },
     "metadata": {
      "needs_background": "light"
     },
     "output_type": "display_data"
    }
   ],
   "source": [
    "plt.figure()\n",
    "plt.plot(cl[\"R=2e6\"][0:25])\n",
    "plt.suptitle(\"Figure 4: CL vs Alpha (25°)\")\n",
    "plt.legend()\n",
    "plt.savefig('imgs/CL_25.png')\n",
    "plt.show()"
   ]
  },
  {
   "cell_type": "markdown",
   "metadata": {},
   "source": [
    "<font size=\"5\" color='blue'>Plot of CD 0°-25°</font>"
   ]
  },
  {
   "cell_type": "code",
   "execution_count": 9,
   "metadata": {},
   "outputs": [
    {
     "data": {
      "image/png": "[encoded data removed]",
      "text/plain": [
       "<Figure size 432x288 with 1 Axes>"
      ]
     },
     "metadata": {
      "needs_background": "light"
     },
     "output_type": "display_data"
    }
   ],
   "source": [
    "plt.figure()\n",
    "plt.plot(cd[\"R=2e6\"][0:25])\n",
    "plt.suptitle(\"Figure 5: CD vs Alpha (25°)\")\n",
    "plt.legend()\n",
    "plt.savefig('imgs/CD_25.png')\n",
    "plt.show()"
   ]
  },
  {
   "cell_type": "markdown",
   "metadata": {},
   "source": [
    "<font size=\"5\" color='blue'>Plot of CL/CD 0°-25°</font>"
   ]
  },
  {
   "cell_type": "code",
   "execution_count": 10,
   "metadata": {},
   "outputs": [
    {
     "data": {
      "image/png": "[encoded data removed]",
      "text/plain": [
       "<Figure size 432x288 with 1 Axes>"
      ]
     },
     "metadata": {
      "needs_background": "light"
     },
     "output_type": "display_data"
    }
   ],
   "source": [
    "plt.figure()\n",
    "plt.plot(div[0:25])\n",
    "plt.suptitle(\"Figure 6: CL/CD vs Alpha (25°)\")\n",
    "plt.legend()\n",
    "plt.savefig('imgs/CL_CD_25.png')\n",
    "plt.show()"
   ]
  },
  {
   "cell_type": "markdown",
   "metadata": {},
   "source": [
    "<font size=\"6\" color='red'>Question 2</font>"
   ]
  },
  {
   "cell_type": "markdown",
   "metadata": {},
   "source": [
    "<font size=\"5\" color='green'>Alpha Stall</font>,<font size=\"5\" color='red'> Alpha Max</font>,<font size=\"5\" color='yellow'> Alpha DeepStall</font>"
   ]
  },
  {
   "cell_type": "code",
   "execution_count": 11,
   "metadata": {},
   "outputs": [
    {
     "data": {
      "image/png": "[encoded data removed]",
      "text/plain": [
       "<Figure size 432x288 with 1 Axes>"
      ]
     },
     "metadata": {
      "needs_background": "light"
     },
     "output_type": "display_data"
    },
    {
     "name": "stdout",
     "output_type": "stream",
     "text": [
      "Alpha Stall =  6\n",
      "Alpha Max =  14\n",
      "Alpha Deep Stall =  16\n"
     ]
    }
   ],
   "source": [
    "plt.plot(cl[\"R=2e6\"][0:25], label=\"CL\")\n",
    "plt.plot(cd[\"R=2e6\"][0:25],label=\"CD\")\n",
    "plt.axvline(x=6, color='g') #cl stops being linear\n",
    "plt.axvline(x=cl[\"R=2e6\"][0:25].idxmax(), color='r') #cl max vlaue\n",
    "plt.axvline(x=16, color='y') #cd sudden change \n",
    "plt.suptitle(\"Figure 7: Alphas\")\n",
    "plt.legend()\n",
    "plt.savefig('imgs/alphas.png')\n",
    "plt.show()\n",
    "print(\"Alpha Stall = \",6)\n",
    "print(\"Alpha Max = \",cl[\"R=2e6\"][0:25].idxmax())\n",
    "print(\"Alpha Deep Stall = \",16)\n",
    "alpha_deep_stall = 16"
   ]
  },
  {
   "cell_type": "markdown",
   "metadata": {},
   "source": [
    "<font size=\"6\" color='red'>Question 3</font>"
   ]
  },
  {
   "cell_type": "markdown",
   "metadata": {},
   "source": [
    "<font size=\"5\" color='blue'>Best Angle lift to drag ratio</font>"
   ]
  },
  {
   "cell_type": "code",
   "execution_count": 12,
   "metadata": {},
   "outputs": [
    {
     "data": {
      "image/png": "[encoded data removed]",
      "text/plain": [
       "<Figure size 432x288 with 1 Axes>"
      ]
     },
     "metadata": {
      "needs_background": "light"
     },
     "output_type": "display_data"
    },
    {
     "name": "stdout",
     "output_type": "stream",
     "text": [
      "best angle = 9\n"
     ]
    }
   ],
   "source": [
    "plt.plot(div[0:25], label=\"CL/CD\")\n",
    "plt.axvline(x=div.idxmax(), color='r') #cd/cl max vlaue\n",
    "plt.suptitle(\"Figure 8: CL/CD Best angle\")\n",
    "plt.legend()\n",
    "plt.savefig('imgs/best_angle.png')\n",
    "plt.show()\n",
    "\n",
    "best_angle = div[0:25].idxmax()\n",
    "print(\"best angle =\", best_angle)"
   ]
  },
  {
   "cell_type": "markdown",
   "metadata": {},
   "source": [
    "<font size=\"6\" color='red'>Question 4</font>"
   ]
  },
  {
   "cell_type": "markdown",
   "metadata": {},
   "source": [
    "<font size=\"5\" color='blue'>CL,CD, CL/CD for Best Angle</font>"
   ]
  },
  {
   "cell_type": "code",
   "execution_count": 13,
   "metadata": {},
   "outputs": [
    {
     "name": "stdout",
     "output_type": "stream",
     "text": [
      "CL(at best angle) = 0.9314\n",
      "CD(at best angle) = 0.0122\n",
      "CL/CD(at best angle) = 76.34426229508196\n"
     ]
    }
   ],
   "source": [
    "cl_best_angle = cl[\"R=2e6\"][best_angle]\n",
    "cd_best_angle = cd[\"R=2e6\"][best_angle]\n",
    "cl_cd_best_angle = div[best_angle]\n",
    "print(\"CL(at best angle) =\", cl_best_angle)\n",
    "print(\"CD(at best angle) =\", cd_best_angle)\n",
    "print(\"CL/CD(at best angle) =\", cl_cd_best_angle)"
   ]
  },
  {
   "cell_type": "markdown",
   "metadata": {},
   "source": [
    "<font size=\"6\" color='red'>Question 5</font>"
   ]
  },
  {
   "cell_type": "markdown",
   "metadata": {},
   "source": [
    "<font size=\"5\" color='blue'>r/R</font>"
   ]
  },
  {
   "cell_type": "code",
   "execution_count": 14,
   "metadata": {},
   "outputs": [
    {
     "data": {
      "text/html": [
       "<div>\n",
       "<style scoped>\n",
       "    .dataframe tbody tr th:only-of-type {\n",
       "        vertical-align: middle;\n",
       "    }\n",
       "\n",
       "    .dataframe tbody tr th {\n",
       "        vertical-align: top;\n",
       "    }\n",
       "\n",
       "    .dataframe thead th {\n",
       "        text-align: right;\n",
       "    }\n",
       "</style>\n",
       "<table border=\"1\" class=\"dataframe\">\n",
       "  <thead>\n",
       "    <tr style=\"text-align: right;\">\n",
       "      <th></th>\n",
       "      <th>1</th>\n",
       "      <th>2</th>\n",
       "      <th>3</th>\n",
       "      <th>4</th>\n",
       "      <th>5</th>\n",
       "      <th>6</th>\n",
       "      <th>7</th>\n",
       "      <th>8</th>\n",
       "      <th>9</th>\n",
       "      <th>10</th>\n",
       "      <th>11</th>\n",
       "      <th>12</th>\n",
       "      <th>13</th>\n",
       "      <th>14</th>\n",
       "      <th>15</th>\n",
       "      <th>16</th>\n",
       "      <th>17</th>\n",
       "      <th>18</th>\n",
       "      <th>19</th>\n",
       "    </tr>\n",
       "  </thead>\n",
       "  <tbody>\n",
       "    <tr>\n",
       "      <th>R</th>\n",
       "      <td>0.075</td>\n",
       "      <td>0.125</td>\n",
       "      <td>0.175</td>\n",
       "      <td>0.225</td>\n",
       "      <td>0.275</td>\n",
       "      <td>0.325</td>\n",
       "      <td>0.375</td>\n",
       "      <td>0.425</td>\n",
       "      <td>0.475</td>\n",
       "      <td>0.525</td>\n",
       "      <td>0.575</td>\n",
       "      <td>0.625</td>\n",
       "      <td>0.675</td>\n",
       "      <td>0.725</td>\n",
       "      <td>0.775</td>\n",
       "      <td>0.825</td>\n",
       "      <td>0.875</td>\n",
       "      <td>0.925</td>\n",
       "      <td>0.975</td>\n",
       "    </tr>\n",
       "  </tbody>\n",
       "</table>\n",
       "</div>"
      ],
      "text/plain": [
       "      1      2      3      4      5      6      7      8      9      10  \\\n",
       "R  0.075  0.125  0.175  0.225  0.275  0.325  0.375  0.425  0.475  0.525   \n",
       "\n",
       "      11     12     13     14     15     16     17     18     19  \n",
       "R  0.575  0.625  0.675  0.725  0.775  0.825  0.875  0.925  0.975  "
      ]
     },
     "execution_count": 14,
     "metadata": {},
     "output_type": "execute_result"
    }
   ],
   "source": [
    "slice_radius = .05\n",
    "ratio_array = [.075]\n",
    "for i in range(18):\n",
    "    ratio_array.append(ratio_array[-1]+slice_radius)\n",
    "df_ratio = pd.DataFrame(ratio_array, columns=['R'])\n",
    "df_ratio.index += 1 \n",
    "df_ratio.T"
   ]
  },
  {
   "cell_type": "markdown",
   "metadata": {},
   "source": [
    "<font size=\"6\" color='red'>Question 6</font>"
   ]
  },
  {
   "cell_type": "markdown",
   "metadata": {},
   "source": [
    "<font size=\"5\" color='blue'>Lambda</font>"
   ]
  },
  {
   "cell_type": "code",
   "execution_count": 15,
   "metadata": {},
   "outputs": [],
   "source": [
    "def landa(landaR,ratio):\n",
    "    return landaR*ratio"
   ]
  },
  {
   "cell_type": "code",
   "execution_count": 16,
   "metadata": {},
   "outputs": [],
   "source": [
    "b, l, a, bp = symbols('b l a bp')"
   ]
  },
  {
   "cell_type": "markdown",
   "metadata": {},
   "source": [
    "<font size=\"5\" color='blue'>Beta</font>"
   ]
  },
  {
   "cell_type": "code",
   "execution_count": 17,
   "metadata": {},
   "outputs": [
    {
     "data": {
      "text/plain": [
       "[atan(2/(3*l))]"
      ]
     },
     "execution_count": 17,
     "metadata": {},
     "output_type": "execute_result"
    }
   ],
   "source": [
    "expr = tan(b)-(2/(3*l))\n",
    "solve(expr, b)"
   ]
  },
  {
   "cell_type": "code",
   "execution_count": 18,
   "metadata": {},
   "outputs": [],
   "source": [
    "def beta(landa):\n",
    "    return math.degrees(atan(2/(3*landa)))"
   ]
  },
  {
   "cell_type": "markdown",
   "metadata": {},
   "source": [
    "<font size=\"5\" color='blue'>Beta pitch</font>"
   ]
  },
  {
   "cell_type": "code",
   "execution_count": 19,
   "metadata": {},
   "outputs": [
    {
     "data": {
      "text/plain": [
       "[-a + b]"
      ]
     },
     "execution_count": 19,
     "metadata": {},
     "output_type": "execute_result"
    }
   ],
   "source": [
    "expr = b - a - bp\n",
    "solve(expr, bp)"
   ]
  },
  {
   "cell_type": "code",
   "execution_count": 20,
   "metadata": {},
   "outputs": [],
   "source": [
    "def beta_pitch(alpha,beta):\n",
    "    return (-alpha + beta)"
   ]
  },
  {
   "cell_type": "markdown",
   "metadata": {},
   "source": [
    "<font size=\"5\" color='blue'>C/R</font>"
   ]
  },
  {
   "cell_type": "code",
   "execution_count": 21,
   "metadata": {},
   "outputs": [],
   "source": [
    "def c_r(ratio,cl,cd,landa):\n",
    "    return (1/(cl*blade_number))*((16*math.pi*ratio)/(9*math.sqrt(landa**2+4/9)*(landa+(2/3)*(cd/cl))))"
   ]
  },
  {
   "cell_type": "markdown",
   "metadata": {},
   "source": [
    "<font size=\"5\" color='blue'>Tables</font>"
   ]
  },
  {
   "cell_type": "code",
   "execution_count": 22,
   "metadata": {},
   "outputs": [],
   "source": [
    "def df_landa(landa_value):\n",
    "    d={}\n",
    "    d[\"df{0}\".format(landa_value)] = pd.DataFrame(ratio_array, columns=[\"r/R\"])\n",
    "    d[\"df{0}\".format(landa_value)].set_index('r/R', inplace=True)\n",
    "    \n",
    "    #landa\n",
    "    d[\"landa_{0}\".format(landa_value)] = []\n",
    "    for i in range(len(ratio_array)):\n",
    "         d[\"landa_{0}\".format(landa_value)].append(landa(landa_value,ratio_array[i]))\n",
    "    d[\"df{0}\".format(landa_value)][\"landa_{0}\".format(landa_value)] = d[\"landa_{0}\".format(landa_value)]\n",
    "    \n",
    "    #beta\n",
    "    d[\"landa_{0}_beta\".format(landa_value)] = []\n",
    "    for i in range(len(ratio_array)):\n",
    "         d[\"landa_{0}_beta\".format(landa_value)].append(beta(d[\"landa_{0}\".format(landa_value)][i]))\n",
    "    d[\"df{0}\".format(landa_value)][\"beta_{0}\".format(landa_value)] = d[\"landa_{0}_beta\".format(landa_value)]\n",
    "    \n",
    "    #alpha\n",
    "    alpha = best_angle\n",
    "    d[\"landa_{0}_alpha\".format(landa_value)] = []\n",
    "    for i in range(len(ratio_array)):\n",
    "         d[\"landa_{0}_alpha\".format(landa_value)].append(alpha)\n",
    "    d[\"df{0}\".format(landa_value)][\"alpha_{0}\".format(landa_value)] = d[\"landa_{0}_alpha\".format(landa_value)]\n",
    "    \n",
    "    #betapitch\n",
    "    d[\"landa_{0}_beta_pitch\".format(landa_value)] = []\n",
    "    for i in range(len(ratio_array)):\n",
    "        d[\"landa_{0}_beta_pitch\".format(landa_value)].append(beta_pitch(d[\"df{0}\".format(landa_value)][\"alpha_{0}\".format(landa_value)].tolist()[i],d[\"df{0}\".format(landa_value)][\"beta_{0}\".format(landa_value)].tolist()[i]))\n",
    "    d[\"df{0}\".format(landa_value)][\"beta_pitch_{0}\".format(landa_value)] = d[\"landa_{0}_beta_pitch\".format(landa_value)]\n",
    "    \n",
    "    #cl\n",
    "    d[\"landa_{0}_cl\".format(landa_value)] = []\n",
    "    for i in range(len(ratio_array)):\n",
    "         d[\"landa_{0}_cl\".format(landa_value)].append(cl_best_angle)\n",
    "    d[\"df{0}\".format(landa_value)][\"cl_{0}\".format(landa_value)] = d[\"landa_{0}_cl\".format(landa_value)]\n",
    "    \n",
    "    #cd\n",
    "    d[\"landa_{0}_cd\".format(landa_value)] = []\n",
    "    for i in range(len(ratio_array)):\n",
    "         d[\"landa_{0}_cd\".format(landa_value)].append(cd_best_angle)\n",
    "    d[\"df{0}\".format(landa_value)][\"cd_{0}\".format(landa_value)] = d[\"landa_{0}_cd\".format(landa_value)]\n",
    "    \n",
    "    #C/R\n",
    "    d[\"landa_{0}_c/r\".format(landa_value)] = []\n",
    "    for i in range(len(ratio_array)):\n",
    "         d[\"landa_{0}_c/r\".format(landa_value)].append(c_r(d[\"df{0}\".format(landa_value)].index[i],d[\"df{0}\".format(landa_value)][\"cl_{0}\".format(landa_value)].tolist()[i],d[\"df{0}\".format(landa_value)][\"cd_{0}\".format(landa_value)].tolist()[i],d[\"df{0}\".format(landa_value)][\"landa_{0}\".format(landa_value)].tolist()[i]))\n",
    "    d[\"df{0}\".format(landa_value)][\"c/r_{0}\".format(landa_value)] = d[\"landa_{0}_c/r\".format(landa_value)]\n",
    "    \n",
    "    return d[\"df{0}\".format(landa_value)]"
   ]
  },
  {
   "cell_type": "code",
   "execution_count": 23,
   "metadata": {},
   "outputs": [
    {
     "data": {
      "text/html": [
       "<div>\n",
       "<style scoped>\n",
       "    .dataframe tbody tr th:only-of-type {\n",
       "        vertical-align: middle;\n",
       "    }\n",
       "\n",
       "    .dataframe tbody tr th {\n",
       "        vertical-align: top;\n",
       "    }\n",
       "\n",
       "    .dataframe thead th {\n",
       "        text-align: right;\n",
       "    }\n",
       "</style>\n",
       "<table border=\"1\" class=\"dataframe\">\n",
       "  <thead>\n",
       "    <tr style=\"text-align: right;\">\n",
       "      <th></th>\n",
       "      <th>landa_7</th>\n",
       "      <th>beta_7</th>\n",
       "      <th>alpha_7</th>\n",
       "      <th>beta_pitch_7</th>\n",
       "      <th>cl_7</th>\n",
       "      <th>cd_7</th>\n",
       "      <th>c/r_7</th>\n",
       "    </tr>\n",
       "    <tr>\n",
       "      <th>r/R</th>\n",
       "      <th></th>\n",
       "      <th></th>\n",
       "      <th></th>\n",
       "      <th></th>\n",
       "      <th></th>\n",
       "      <th></th>\n",
       "      <th></th>\n",
       "    </tr>\n",
       "  </thead>\n",
       "  <tbody>\n",
       "    <tr>\n",
       "      <th>0.075</th>\n",
       "      <td>0.525</td>\n",
       "      <td>51.779568</td>\n",
       "      <td>9</td>\n",
       "      <td>42.779568</td>\n",
       "      <td>0.9314</td>\n",
       "      <td>0.0122</td>\n",
       "      <td>0.330994</td>\n",
       "    </tr>\n",
       "    <tr>\n",
       "      <th>0.125</th>\n",
       "      <td>0.875</td>\n",
       "      <td>37.303948</td>\n",
       "      <td>9</td>\n",
       "      <td>28.303948</td>\n",
       "      <td>0.9314</td>\n",
       "      <td>0.0122</td>\n",
       "      <td>0.257012</td>\n",
       "    </tr>\n",
       "    <tr>\n",
       "      <th>0.175</th>\n",
       "      <td>1.225</td>\n",
       "      <td>28.555814</td>\n",
       "      <td>9</td>\n",
       "      <td>19.555814</td>\n",
       "      <td>0.9314</td>\n",
       "      <td>0.0122</td>\n",
       "      <td>0.203292</td>\n",
       "    </tr>\n",
       "    <tr>\n",
       "      <th>0.225</th>\n",
       "      <td>1.575</td>\n",
       "      <td>22.941989</td>\n",
       "      <td>9</td>\n",
       "      <td>13.941989</td>\n",
       "      <td>0.9314</td>\n",
       "      <td>0.0122</td>\n",
       "      <td>0.166036</td>\n",
       "    </tr>\n",
       "    <tr>\n",
       "      <th>0.275</th>\n",
       "      <td>1.925</td>\n",
       "      <td>19.102011</td>\n",
       "      <td>9</td>\n",
       "      <td>10.102011</td>\n",
       "      <td>0.9314</td>\n",
       "      <td>0.0122</td>\n",
       "      <td>0.139534</td>\n",
       "    </tr>\n",
       "    <tr>\n",
       "      <th>0.325</th>\n",
       "      <td>2.275</td>\n",
       "      <td>16.332711</td>\n",
       "      <td>9</td>\n",
       "      <td>7.332711</td>\n",
       "      <td>0.9314</td>\n",
       "      <td>0.0122</td>\n",
       "      <td>0.119988</td>\n",
       "    </tr>\n",
       "    <tr>\n",
       "      <th>0.375</th>\n",
       "      <td>2.625</td>\n",
       "      <td>14.250033</td>\n",
       "      <td>9</td>\n",
       "      <td>5.250033</td>\n",
       "      <td>0.9314</td>\n",
       "      <td>0.0122</td>\n",
       "      <td>0.105082</td>\n",
       "    </tr>\n",
       "    <tr>\n",
       "      <th>0.425</th>\n",
       "      <td>2.975</td>\n",
       "      <td>12.630727</td>\n",
       "      <td>9</td>\n",
       "      <td>3.630727</td>\n",
       "      <td>0.9314</td>\n",
       "      <td>0.0122</td>\n",
       "      <td>0.093384</td>\n",
       "    </tr>\n",
       "    <tr>\n",
       "      <th>0.475</th>\n",
       "      <td>3.325</td>\n",
       "      <td>11.337545</td>\n",
       "      <td>9</td>\n",
       "      <td>2.337545</td>\n",
       "      <td>0.9314</td>\n",
       "      <td>0.0122</td>\n",
       "      <td>0.083981</td>\n",
       "    </tr>\n",
       "    <tr>\n",
       "      <th>0.525</th>\n",
       "      <td>3.675</td>\n",
       "      <td>10.281978</td>\n",
       "      <td>9</td>\n",
       "      <td>1.281978</td>\n",
       "      <td>0.9314</td>\n",
       "      <td>0.0122</td>\n",
       "      <td>0.076270</td>\n",
       "    </tr>\n",
       "    <tr>\n",
       "      <th>0.575</th>\n",
       "      <td>4.025</td>\n",
       "      <td>9.404603</td>\n",
       "      <td>9</td>\n",
       "      <td>0.404603</td>\n",
       "      <td>0.9314</td>\n",
       "      <td>0.0122</td>\n",
       "      <td>0.069837</td>\n",
       "    </tr>\n",
       "    <tr>\n",
       "      <th>0.625</th>\n",
       "      <td>4.375</td>\n",
       "      <td>8.664135</td>\n",
       "      <td>9</td>\n",
       "      <td>-0.335865</td>\n",
       "      <td>0.9314</td>\n",
       "      <td>0.0122</td>\n",
       "      <td>0.064394</td>\n",
       "    </tr>\n",
       "    <tr>\n",
       "      <th>0.675</th>\n",
       "      <td>4.725</td>\n",
       "      <td>8.031048</td>\n",
       "      <td>9</td>\n",
       "      <td>-0.968952</td>\n",
       "      <td>0.9314</td>\n",
       "      <td>0.0122</td>\n",
       "      <td>0.059729</td>\n",
       "    </tr>\n",
       "    <tr>\n",
       "      <th>0.725</th>\n",
       "      <td>5.075</td>\n",
       "      <td>7.483689</td>\n",
       "      <td>9</td>\n",
       "      <td>-1.516311</td>\n",
       "      <td>0.9314</td>\n",
       "      <td>0.0122</td>\n",
       "      <td>0.055690</td>\n",
       "    </tr>\n",
       "    <tr>\n",
       "      <th>0.775</th>\n",
       "      <td>5.425</td>\n",
       "      <td>7.005831</td>\n",
       "      <td>9</td>\n",
       "      <td>-1.994169</td>\n",
       "      <td>0.9314</td>\n",
       "      <td>0.0122</td>\n",
       "      <td>0.052158</td>\n",
       "    </tr>\n",
       "    <tr>\n",
       "      <th>0.825</th>\n",
       "      <td>5.775</td>\n",
       "      <td>6.585083</td>\n",
       "      <td>9</td>\n",
       "      <td>-2.414917</td>\n",
       "      <td>0.9314</td>\n",
       "      <td>0.0122</td>\n",
       "      <td>0.049044</td>\n",
       "    </tr>\n",
       "    <tr>\n",
       "      <th>0.875</th>\n",
       "      <td>6.125</td>\n",
       "      <td>6.211822</td>\n",
       "      <td>9</td>\n",
       "      <td>-2.788178</td>\n",
       "      <td>0.9314</td>\n",
       "      <td>0.0122</td>\n",
       "      <td>0.046280</td>\n",
       "    </tr>\n",
       "    <tr>\n",
       "      <th>0.925</th>\n",
       "      <td>6.475</td>\n",
       "      <td>5.878466</td>\n",
       "      <td>9</td>\n",
       "      <td>-3.121534</td>\n",
       "      <td>0.9314</td>\n",
       "      <td>0.0122</td>\n",
       "      <td>0.043808</td>\n",
       "    </tr>\n",
       "    <tr>\n",
       "      <th>0.975</th>\n",
       "      <td>6.825</td>\n",
       "      <td>5.578959</td>\n",
       "      <td>9</td>\n",
       "      <td>-3.421041</td>\n",
       "      <td>0.9314</td>\n",
       "      <td>0.0122</td>\n",
       "      <td>0.041586</td>\n",
       "    </tr>\n",
       "  </tbody>\n",
       "</table>\n",
       "</div>"
      ],
      "text/plain": [
       "       landa_7     beta_7  alpha_7  beta_pitch_7    cl_7    cd_7     c/r_7\n",
       "r/R                                                                       \n",
       "0.075    0.525  51.779568        9     42.779568  0.9314  0.0122  0.330994\n",
       "0.125    0.875  37.303948        9     28.303948  0.9314  0.0122  0.257012\n",
       "0.175    1.225  28.555814        9     19.555814  0.9314  0.0122  0.203292\n",
       "0.225    1.575  22.941989        9     13.941989  0.9314  0.0122  0.166036\n",
       "0.275    1.925  19.102011        9     10.102011  0.9314  0.0122  0.139534\n",
       "0.325    2.275  16.332711        9      7.332711  0.9314  0.0122  0.119988\n",
       "0.375    2.625  14.250033        9      5.250033  0.9314  0.0122  0.105082\n",
       "0.425    2.975  12.630727        9      3.630727  0.9314  0.0122  0.093384\n",
       "0.475    3.325  11.337545        9      2.337545  0.9314  0.0122  0.083981\n",
       "0.525    3.675  10.281978        9      1.281978  0.9314  0.0122  0.076270\n",
       "0.575    4.025   9.404603        9      0.404603  0.9314  0.0122  0.069837\n",
       "0.625    4.375   8.664135        9     -0.335865  0.9314  0.0122  0.064394\n",
       "0.675    4.725   8.031048        9     -0.968952  0.9314  0.0122  0.059729\n",
       "0.725    5.075   7.483689        9     -1.516311  0.9314  0.0122  0.055690\n",
       "0.775    5.425   7.005831        9     -1.994169  0.9314  0.0122  0.052158\n",
       "0.825    5.775   6.585083        9     -2.414917  0.9314  0.0122  0.049044\n",
       "0.875    6.125   6.211822        9     -2.788178  0.9314  0.0122  0.046280\n",
       "0.925    6.475   5.878466        9     -3.121534  0.9314  0.0122  0.043808\n",
       "0.975    6.825   5.578959        9     -3.421041  0.9314  0.0122  0.041586"
      ]
     },
     "execution_count": 23,
     "metadata": {},
     "output_type": "execute_result"
    }
   ],
   "source": [
    "df_landa(7)"
   ]
  },
  {
   "cell_type": "markdown",
   "metadata": {},
   "source": [
    "<font size=\"6\" color='red'>Question 7</font>"
   ]
  },
  {
   "cell_type": "markdown",
   "metadata": {},
   "source": [
    "<font size=\"5\" color='blue'>Plot c/R</font>"
   ]
  },
  {
   "cell_type": "code",
   "execution_count": 24,
   "metadata": {},
   "outputs": [
    {
     "data": {
      "image/png": "[encoded data removed]",
      "text/plain": [
       "<Figure size 432x288 with 1 Axes>"
      ]
     },
     "metadata": {
      "needs_background": "light"
     },
     "output_type": "display_data"
    }
   ],
   "source": [
    "plt.figure()\n",
    "for i in range(10):\n",
    "    df_plot = df_landa(i+1)\n",
    "    x = df_plot.index\n",
    "    y = df_plot['c/r_{}'.format(i+1)]\n",
    "    plt.plot(x,y);\n",
    "\n",
    "plt.suptitle(\"Figure 9: c/R 1-10\")\n",
    "plt.legend()\n",
    "plt.savefig('imgs/c_R.png')\n",
    "plt.show()"
   ]
  },
  {
   "cell_type": "markdown",
   "metadata": {},
   "source": [
    "<font size=\"6\" color='red'>Question 10</font>"
   ]
  },
  {
   "cell_type": "markdown",
   "metadata": {},
   "source": [
    "<font size=\"5\" color='blue'>Correct Alpha</font>"
   ]
  },
  {
   "cell_type": "code",
   "execution_count": 25,
   "metadata": {},
   "outputs": [],
   "source": [
    "def alpha_correct(ratio, alpha):\n",
    "    return alpha - 5*(1-1/math.sqrt(ratio))"
   ]
  },
  {
   "cell_type": "code",
   "execution_count": 26,
   "metadata": {},
   "outputs": [],
   "source": [
    "def df_landa_correct(landa_value):\n",
    "    d={}\n",
    "    d[\"df{0}\".format(landa_value)] = pd.DataFrame(ratio_array, columns=[\"r/R\"])\n",
    "    d[\"df{0}\".format(landa_value)].set_index('r/R', inplace=True)\n",
    "    \n",
    "    #landa\n",
    "    d[\"landa_{0}\".format(landa_value)] = []\n",
    "    for i in range(len(ratio_array)):\n",
    "         d[\"landa_{0}\".format(landa_value)].append(landa(landa_value,ratio_array[i]))\n",
    "    d[\"df{0}\".format(landa_value)][\"landa_{0}\".format(landa_value)] = d[\"landa_{0}\".format(landa_value)]\n",
    "    \n",
    "    #beta\n",
    "    d[\"landa_{0}_beta\".format(landa_value)] = []\n",
    "    for i in range(len(ratio_array)):\n",
    "         d[\"landa_{0}_beta\".format(landa_value)].append(beta(d[\"landa_{0}\".format(landa_value)][i]))\n",
    "    d[\"df{0}\".format(landa_value)][\"beta_{0}\".format(landa_value)] = d[\"landa_{0}_beta\".format(landa_value)]\n",
    "    \n",
    "    #alpha\n",
    "    alpha = best_angle\n",
    "    d[\"landa_{0}_alpha\".format(landa_value)] = []\n",
    "    for i in range(len(ratio_array)):\n",
    "         d[\"landa_{0}_alpha\".format(landa_value)].append(alpha_correct(ratio_array[i],alpha))\n",
    "    d[\"df{0}\".format(landa_value)][\"alpha_{0}\".format(landa_value)] = d[\"landa_{0}_alpha\".format(landa_value)]\n",
    "    \n",
    "    #betapitch\n",
    "    d[\"landa_{0}_beta_pitch\".format(landa_value)] = []\n",
    "    for i in range(len(ratio_array)):\n",
    "        d[\"landa_{0}_beta_pitch\".format(landa_value)].append(beta_pitch(d[\"df{0}\".format(landa_value)][\"alpha_{0}\".format(landa_value)].tolist()[i],d[\"df{0}\".format(landa_value)][\"beta_{0}\".format(landa_value)].tolist()[i]))\n",
    "    d[\"df{0}\".format(landa_value)][\"beta_pitch_{0}\".format(landa_value)] = d[\"landa_{0}_beta_pitch\".format(landa_value)]\n",
    "    \n",
    "    #cl\n",
    "    d[\"landa_{0}_cl\".format(landa_value)] = []\n",
    "    for i in range(len(ratio_array)):\n",
    "         d[\"landa_{0}_cl\".format(landa_value)].append(cl_best_angle)\n",
    "    d[\"df{0}\".format(landa_value)][\"cl_{0}\".format(landa_value)] = d[\"landa_{0}_cl\".format(landa_value)]\n",
    "    \n",
    "    #cd\n",
    "    d[\"landa_{0}_cd\".format(landa_value)] = []\n",
    "    for i in range(len(ratio_array)):\n",
    "         d[\"landa_{0}_cd\".format(landa_value)].append(cd_best_angle)\n",
    "    d[\"df{0}\".format(landa_value)][\"cd_{0}\".format(landa_value)] = d[\"landa_{0}_cd\".format(landa_value)]\n",
    "    \n",
    "    #C/R\n",
    "    d[\"landa_{0}_c/r\".format(landa_value)] = []\n",
    "    for i in range(len(ratio_array)):\n",
    "         d[\"landa_{0}_c/r\".format(landa_value)].append(c_r(d[\"df{0}\".format(landa_value)].index[i],d[\"df{0}\".format(landa_value)][\"cl_{0}\".format(landa_value)].tolist()[i],d[\"df{0}\".format(landa_value)][\"cd_{0}\".format(landa_value)].tolist()[i],d[\"df{0}\".format(landa_value)][\"landa_{0}\".format(landa_value)].tolist()[i]))\n",
    "    d[\"df{0}\".format(landa_value)][\"c/r_{0}\".format(landa_value)] = d[\"landa_{0}_c/r\".format(landa_value)]\n",
    "    \n",
    "    return d[\"df{0}\".format(landa_value)]"
   ]
  },
  {
   "cell_type": "code",
   "execution_count": 27,
   "metadata": {},
   "outputs": [
    {
     "data": {
      "text/html": [
       "<div>\n",
       "<style scoped>\n",
       "    .dataframe tbody tr th:only-of-type {\n",
       "        vertical-align: middle;\n",
       "    }\n",
       "\n",
       "    .dataframe tbody tr th {\n",
       "        vertical-align: top;\n",
       "    }\n",
       "\n",
       "    .dataframe thead th {\n",
       "        text-align: right;\n",
       "    }\n",
       "</style>\n",
       "<table border=\"1\" class=\"dataframe\">\n",
       "  <thead>\n",
       "    <tr style=\"text-align: right;\">\n",
       "      <th></th>\n",
       "      <th>landa_7</th>\n",
       "      <th>beta_7</th>\n",
       "      <th>alpha_7</th>\n",
       "      <th>beta_pitch_7</th>\n",
       "      <th>cl_7</th>\n",
       "      <th>cd_7</th>\n",
       "      <th>c/r_7</th>\n",
       "    </tr>\n",
       "    <tr>\n",
       "      <th>r/R</th>\n",
       "      <th></th>\n",
       "      <th></th>\n",
       "      <th></th>\n",
       "      <th></th>\n",
       "      <th></th>\n",
       "      <th></th>\n",
       "      <th></th>\n",
       "    </tr>\n",
       "  </thead>\n",
       "  <tbody>\n",
       "    <tr>\n",
       "      <th>0.075</th>\n",
       "      <td>0.525</td>\n",
       "      <td>51.779568</td>\n",
       "      <td>22.257419</td>\n",
       "      <td>29.522149</td>\n",
       "      <td>0.9314</td>\n",
       "      <td>0.0122</td>\n",
       "      <td>0.330994</td>\n",
       "    </tr>\n",
       "    <tr>\n",
       "      <th>0.125</th>\n",
       "      <td>0.875</td>\n",
       "      <td>37.303948</td>\n",
       "      <td>18.142136</td>\n",
       "      <td>19.161813</td>\n",
       "      <td>0.9314</td>\n",
       "      <td>0.0122</td>\n",
       "      <td>0.257012</td>\n",
       "    </tr>\n",
       "    <tr>\n",
       "      <th>0.175</th>\n",
       "      <td>1.225</td>\n",
       "      <td>28.555814</td>\n",
       "      <td>15.952286</td>\n",
       "      <td>12.603528</td>\n",
       "      <td>0.9314</td>\n",
       "      <td>0.0122</td>\n",
       "      <td>0.203292</td>\n",
       "    </tr>\n",
       "    <tr>\n",
       "      <th>0.225</th>\n",
       "      <td>1.575</td>\n",
       "      <td>22.941989</td>\n",
       "      <td>14.540926</td>\n",
       "      <td>8.401064</td>\n",
       "      <td>0.9314</td>\n",
       "      <td>0.0122</td>\n",
       "      <td>0.166036</td>\n",
       "    </tr>\n",
       "    <tr>\n",
       "      <th>0.275</th>\n",
       "      <td>1.925</td>\n",
       "      <td>19.102011</td>\n",
       "      <td>13.534626</td>\n",
       "      <td>5.567385</td>\n",
       "      <td>0.9314</td>\n",
       "      <td>0.0122</td>\n",
       "      <td>0.139534</td>\n",
       "    </tr>\n",
       "  </tbody>\n",
       "</table>\n",
       "</div>"
      ],
      "text/plain": [
       "       landa_7     beta_7    alpha_7  beta_pitch_7    cl_7    cd_7     c/r_7\n",
       "r/R                                                                         \n",
       "0.075    0.525  51.779568  22.257419     29.522149  0.9314  0.0122  0.330994\n",
       "0.125    0.875  37.303948  18.142136     19.161813  0.9314  0.0122  0.257012\n",
       "0.175    1.225  28.555814  15.952286     12.603528  0.9314  0.0122  0.203292\n",
       "0.225    1.575  22.941989  14.540926      8.401064  0.9314  0.0122  0.166036\n",
       "0.275    1.925  19.102011  13.534626      5.567385  0.9314  0.0122  0.139534"
      ]
     },
     "execution_count": 27,
     "metadata": {},
     "output_type": "execute_result"
    }
   ],
   "source": [
    "df_landa_correct(7).head()"
   ]
  },
  {
   "cell_type": "code",
   "execution_count": 28,
   "metadata": {},
   "outputs": [
    {
     "data": {
      "image/png": "[encoded data removed]",
      "text/plain": [
       "<Figure size 432x288 with 1 Axes>"
      ]
     },
     "metadata": {
      "needs_background": "light"
     },
     "output_type": "display_data"
    }
   ],
   "source": [
    "plt.figure()\n",
    "df_plot_alpha = df_landa_correct(1)\n",
    "x = df_plot_alpha.index\n",
    "y = df_plot_alpha['alpha_1']\n",
    "plt.plot(x,y, label='alpha corrected');\n",
    "plt.suptitle(\"Figure 10: Alpha correction\")\n",
    "plt.legend()\n",
    "plt.savefig('imgs/alpha_correction.png')\n",
    "plt.show()"
   ]
  },
  {
   "cell_type": "markdown",
   "metadata": {},
   "source": [
    "<font size=\"6\" color='red'>Question 11</font>"
   ]
  },
  {
   "cell_type": "markdown",
   "metadata": {},
   "source": [
    "<font size=\"5\" color='blue'>c/R with interpolated values</font>"
   ]
  },
  {
   "cell_type": "code",
   "execution_count": 30,
   "metadata": {},
   "outputs": [
    {
     "data": {
      "text/html": [
       "<div>\n",
       "<style scoped>\n",
       "    .dataframe tbody tr th:only-of-type {\n",
       "        vertical-align: middle;\n",
       "    }\n",
       "\n",
       "    .dataframe tbody tr th {\n",
       "        vertical-align: top;\n",
       "    }\n",
       "\n",
       "    .dataframe thead th {\n",
       "        text-align: right;\n",
       "    }\n",
       "</style>\n",
       "<table border=\"1\" class=\"dataframe\">\n",
       "  <thead>\n",
       "    <tr style=\"text-align: right;\">\n",
       "      <th></th>\n",
       "      <th>CD interp</th>\n",
       "      <th>CDpoints</th>\n",
       "      <th>CL interp</th>\n",
       "      <th>CL points</th>\n",
       "    </tr>\n",
       "    <tr>\n",
       "      <th>alpha</th>\n",
       "      <th></th>\n",
       "      <th></th>\n",
       "      <th></th>\n",
       "      <th></th>\n",
       "    </tr>\n",
       "  </thead>\n",
       "  <tbody>\n",
       "    <tr>\n",
       "      <th>1</th>\n",
       "      <td>0.007760</td>\n",
       "      <td>0.0077</td>\n",
       "      <td>0.106773</td>\n",
       "      <td>0.11</td>\n",
       "    </tr>\n",
       "    <tr>\n",
       "      <th>2</th>\n",
       "      <td>0.007781</td>\n",
       "      <td>0.0078</td>\n",
       "      <td>0.224528</td>\n",
       "      <td>0.22</td>\n",
       "    </tr>\n",
       "    <tr>\n",
       "      <th>3</th>\n",
       "      <td>0.007954</td>\n",
       "      <td>0.0080</td>\n",
       "      <td>0.333696</td>\n",
       "      <td>0.33</td>\n",
       "    </tr>\n",
       "    <tr>\n",
       "      <th>4</th>\n",
       "      <td>0.008278</td>\n",
       "      <td>0.0084</td>\n",
       "      <td>0.439794</td>\n",
       "      <td>0.44</td>\n",
       "    </tr>\n",
       "    <tr>\n",
       "      <th>5</th>\n",
       "      <td>0.008754</td>\n",
       "      <td>0.0087</td>\n",
       "      <td>0.545074</td>\n",
       "      <td>0.55</td>\n",
       "    </tr>\n",
       "  </tbody>\n",
       "</table>\n",
       "</div>"
      ],
      "text/plain": [
       "       CD interp  CDpoints  CL interp  CL points\n",
       "alpha                                           \n",
       "1       0.007760    0.0077   0.106773       0.11\n",
       "2       0.007781    0.0078   0.224528       0.22\n",
       "3       0.007954    0.0080   0.333696       0.33\n",
       "4       0.008278    0.0084   0.439794       0.44\n",
       "5       0.008754    0.0087   0.545074       0.55"
      ]
     },
     "execution_count": 30,
     "metadata": {},
     "output_type": "execute_result"
    }
   ],
   "source": [
    "cl_cd_interpol = pd.read_excel('data/CL-CD-interpolation.xlsx', index_col=0)\n",
    "cl_cd_interpol.head()"
   ]
  },
  {
   "cell_type": "code",
   "execution_count": 31,
   "metadata": {},
   "outputs": [],
   "source": [
    "def df_landa_cl_cd_correct(landa_value):\n",
    "    d={}\n",
    "    d[\"df{0}\".format(landa_value)] = pd.DataFrame(ratio_array, columns=[\"r/R\"])\n",
    "    d[\"df{0}\".format(landa_value)].set_index('r/R', inplace=True)\n",
    "    \n",
    "    #landa\n",
    "    d[\"landa_{0}\".format(landa_value)] = []\n",
    "    for i in range(len(ratio_array)):\n",
    "         d[\"landa_{0}\".format(landa_value)].append(landa(landa_value,ratio_array[i]))\n",
    "    d[\"df{0}\".format(landa_value)][\"landa_{0}\".format(landa_value)] = d[\"landa_{0}\".format(landa_value)]\n",
    "    \n",
    "    #beta\n",
    "    d[\"landa_{0}_beta\".format(landa_value)] = []\n",
    "    for i in range(len(ratio_array)):\n",
    "         d[\"landa_{0}_beta\".format(landa_value)].append(beta(d[\"landa_{0}\".format(landa_value)][i]))\n",
    "    d[\"df{0}\".format(landa_value)][\"beta_{0}\".format(landa_value)] = d[\"landa_{0}_beta\".format(landa_value)]\n",
    "    \n",
    "    #alpha\n",
    "    alpha = best_angle\n",
    "    d[\"landa_{0}_alpha\".format(landa_value)] = []\n",
    "    for i in range(len(ratio_array)):\n",
    "         d[\"landa_{0}_alpha\".format(landa_value)].append(alpha_correct(ratio_array[i],alpha))\n",
    "    d[\"df{0}\".format(landa_value)][\"alpha_{0}\".format(landa_value)] = d[\"landa_{0}_alpha\".format(landa_value)]\n",
    "    \n",
    "    #betapitch\n",
    "    d[\"landa_{0}_beta_pitch\".format(landa_value)] = []\n",
    "    for i in range(len(ratio_array)):\n",
    "        d[\"landa_{0}_beta_pitch\".format(landa_value)].append(beta_pitch(d[\"df{0}\".format(landa_value)][\"alpha_{0}\".format(landa_value)].tolist()[i],d[\"df{0}\".format(landa_value)][\"beta_{0}\".format(landa_value)].tolist()[i]))\n",
    "    d[\"df{0}\".format(landa_value)][\"beta_pitch_{0}\".format(landa_value)] = d[\"landa_{0}_beta_pitch\".format(landa_value)]\n",
    "    \n",
    "    #cl\n",
    "    d[\"landa_{0}_cl\".format(landa_value)] = []\n",
    "    for i in range(len(ratio_array)):\n",
    "        for j in cl_cd_interpol.index:\n",
    "            if int(d[\"df{0}\".format(landa_value)][\"alpha_{0}\".format(landa_value)].values[i])== j:\n",
    "                d[\"landa_{0}_cl\".format(landa_value)].append((cl_cd_interpol['CL points'].values[j-1]))\n",
    "    d[\"df{0}\".format(landa_value)][\"cl_{0}\".format(landa_value)] = d[\"landa_{0}_cl\".format(landa_value)]\n",
    "    \n",
    "    #cd\n",
    "    d[\"landa_{0}_cd\".format(landa_value)] = []\n",
    "    for i in range(len(ratio_array)):\n",
    "        for j in cl_cd_interpol.index:\n",
    "            if int(d[\"df{0}\".format(landa_value)][\"alpha_{0}\".format(landa_value)].values[i])== j:\n",
    "                d[\"landa_{0}_cd\".format(landa_value)].append((cl_cd_interpol['CDpoints'].values[j-1]))\n",
    "    d[\"df{0}\".format(landa_value)][\"cd_{0}\".format(landa_value)] = d[\"landa_{0}_cd\".format(landa_value)]\n",
    "    \n",
    "    #C/R\n",
    "    d[\"landa_{0}_c/r\".format(landa_value)] = []\n",
    "    for i in range(len(ratio_array)):\n",
    "        d[\"landa_{0}_c/r\".format(landa_value)].append(c_r(d[\"df{0}\".format(landa_value)].index[i],d[\"df{0}\".format(landa_value)][\"cl_{0}\".format(landa_value)].tolist()[i],d[\"df{0}\".format(landa_value)][\"cd_{0}\".format(landa_value)].tolist()[i],d[\"df{0}\".format(landa_value)][\"landa_{0}\".format(landa_value)].tolist()[i]))\n",
    "    d[\"df{0}\".format(landa_value)][\"c/r_{0}\".format(landa_value)] = d[\"landa_{0}_c/r\".format(landa_value)]\n",
    "    \n",
    "    return d[\"df{0}\".format(landa_value)]"
   ]
  },
  {
   "cell_type": "code",
   "execution_count": 32,
   "metadata": {},
   "outputs": [
    {
     "data": {
      "text/html": [
       "<div>\n",
       "<style scoped>\n",
       "    .dataframe tbody tr th:only-of-type {\n",
       "        vertical-align: middle;\n",
       "    }\n",
       "\n",
       "    .dataframe tbody tr th {\n",
       "        vertical-align: top;\n",
       "    }\n",
       "\n",
       "    .dataframe thead th {\n",
       "        text-align: right;\n",
       "    }\n",
       "</style>\n",
       "<table border=\"1\" class=\"dataframe\">\n",
       "  <thead>\n",
       "    <tr style=\"text-align: right;\">\n",
       "      <th></th>\n",
       "      <th>landa_7</th>\n",
       "      <th>beta_7</th>\n",
       "      <th>alpha_7</th>\n",
       "      <th>beta_pitch_7</th>\n",
       "      <th>cl_7</th>\n",
       "      <th>cd_7</th>\n",
       "      <th>c/r_7</th>\n",
       "    </tr>\n",
       "    <tr>\n",
       "      <th>r/R</th>\n",
       "      <th></th>\n",
       "      <th></th>\n",
       "      <th></th>\n",
       "      <th></th>\n",
       "      <th></th>\n",
       "      <th></th>\n",
       "      <th></th>\n",
       "    </tr>\n",
       "  </thead>\n",
       "  <tbody>\n",
       "    <tr>\n",
       "      <th>0.075</th>\n",
       "      <td>0.525</td>\n",
       "      <td>51.779568</td>\n",
       "      <td>22.257419</td>\n",
       "      <td>29.522149</td>\n",
       "      <td>1.1127</td>\n",
       "      <td>0.3290</td>\n",
       "      <td>0.204783</td>\n",
       "    </tr>\n",
       "    <tr>\n",
       "      <th>0.125</th>\n",
       "      <td>0.875</td>\n",
       "      <td>37.303948</td>\n",
       "      <td>18.142136</td>\n",
       "      <td>19.161813</td>\n",
       "      <td>1.1383</td>\n",
       "      <td>0.2380</td>\n",
       "      <td>0.183210</td>\n",
       "    </tr>\n",
       "    <tr>\n",
       "      <th>0.175</th>\n",
       "      <td>1.225</td>\n",
       "      <td>28.555814</td>\n",
       "      <td>15.952286</td>\n",
       "      <td>12.603528</td>\n",
       "      <td>1.1754</td>\n",
       "      <td>0.0219</td>\n",
       "      <td>0.160610</td>\n",
       "    </tr>\n",
       "    <tr>\n",
       "      <th>0.225</th>\n",
       "      <td>1.575</td>\n",
       "      <td>22.941989</td>\n",
       "      <td>14.540926</td>\n",
       "      <td>8.401064</td>\n",
       "      <td>1.1813</td>\n",
       "      <td>0.0197</td>\n",
       "      <td>0.130715</td>\n",
       "    </tr>\n",
       "    <tr>\n",
       "      <th>0.275</th>\n",
       "      <td>1.925</td>\n",
       "      <td>19.102011</td>\n",
       "      <td>13.534626</td>\n",
       "      <td>5.567385</td>\n",
       "      <td>1.1555</td>\n",
       "      <td>0.0180</td>\n",
       "      <td>0.112376</td>\n",
       "    </tr>\n",
       "  </tbody>\n",
       "</table>\n",
       "</div>"
      ],
      "text/plain": [
       "       landa_7     beta_7    alpha_7  beta_pitch_7    cl_7    cd_7     c/r_7\n",
       "r/R                                                                         \n",
       "0.075    0.525  51.779568  22.257419     29.522149  1.1127  0.3290  0.204783\n",
       "0.125    0.875  37.303948  18.142136     19.161813  1.1383  0.2380  0.183210\n",
       "0.175    1.225  28.555814  15.952286     12.603528  1.1754  0.0219  0.160610\n",
       "0.225    1.575  22.941989  14.540926      8.401064  1.1813  0.0197  0.130715\n",
       "0.275    1.925  19.102011  13.534626      5.567385  1.1555  0.0180  0.112376"
      ]
     },
     "execution_count": 32,
     "metadata": {},
     "output_type": "execute_result"
    }
   ],
   "source": [
    "df_landa_cl_cd_correct(7).head()"
   ]
  },
  {
   "cell_type": "code",
   "execution_count": 36,
   "metadata": {},
   "outputs": [
    {
     "data": {
      "image/png": "[encoded data removed]",
      "text/plain": [
       "<Figure size 432x288 with 1 Axes>"
      ]
     },
     "metadata": {
      "needs_background": "light"
     },
     "output_type": "display_data"
    }
   ],
   "source": [
    "plt.figure()\n",
    "for i in range(10):\n",
    "    df_plot = df_landa_cl_cd_correct(i+1)\n",
    "    x = df_plot.index\n",
    "    y = df_plot['c/r_{}'.format(i+1)]\n",
    "    plt.plot(x,y);\n",
    "plt.suptitle(\"Figure X: c/R corrected CL,CD 1-10\")\n",
    "plt.legend()\n",
    "plt.savefig('imgs/c_R_corrected_cl_cd.png')\n",
    "plt.show()"
   ]
  },
  {
   "cell_type": "markdown",
   "metadata": {},
   "source": [
    "<font size=\"6\" color='red'>Question 12</font>"
   ]
  },
  {
   "cell_type": "markdown",
   "metadata": {},
   "source": [
    "<font size=\"5\" color='blue'>c/R comparison</font>"
   ]
  },
  {
   "cell_type": "code",
   "execution_count": 37,
   "metadata": {},
   "outputs": [
    {
     "name": "stdout",
     "output_type": "stream",
     "text": [
      "Optimal factor = 2.500000000000002\n"
     ]
    }
   ],
   "source": [
    "num = 5\n",
    "num_i = 999\n",
    "while num_i > alpha_deep_stall:\n",
    "    num_i = best_angle - num*(1-1/math.sqrt(ratio_array[0]))\n",
    "    num-=.1\n",
    "print(\"Optimal factor =\",num)"
   ]
  },
  {
   "cell_type": "code",
   "execution_count": 38,
   "metadata": {},
   "outputs": [],
   "source": [
    "def alpha_correct_max(ratio, alpha):\n",
    "    return alpha - num*(1-1/math.sqrt(ratio))"
   ]
  },
  {
   "cell_type": "code",
   "execution_count": 39,
   "metadata": {},
   "outputs": [],
   "source": [
    "def df_landa_cl_cd_correct_alphamax(landa_value):\n",
    "    d={}\n",
    "    d[\"df{0}\".format(landa_value)] = pd.DataFrame(ratio_array, columns=[\"r/R\"])\n",
    "    d[\"df{0}\".format(landa_value)].set_index('r/R', inplace=True)\n",
    "    \n",
    "    #landa\n",
    "    d[\"landa_{0}\".format(landa_value)] = []\n",
    "    for i in range(len(ratio_array)):\n",
    "         d[\"landa_{0}\".format(landa_value)].append(landa(landa_value,ratio_array[i]))\n",
    "    d[\"df{0}\".format(landa_value)][\"landa_{0}\".format(landa_value)] = d[\"landa_{0}\".format(landa_value)]\n",
    "    \n",
    "    #beta\n",
    "    d[\"landa_{0}_beta\".format(landa_value)] = []\n",
    "    for i in range(len(ratio_array)):\n",
    "         d[\"landa_{0}_beta\".format(landa_value)].append(beta(d[\"landa_{0}\".format(landa_value)][i]))\n",
    "    d[\"df{0}\".format(landa_value)][\"beta_{0}\".format(landa_value)] = d[\"landa_{0}_beta\".format(landa_value)]\n",
    "    \n",
    "    #alpha\n",
    "    alpha = best_angle\n",
    "    d[\"landa_{0}_alpha\".format(landa_value)] = []\n",
    "    for i in range(len(ratio_array)):\n",
    "         d[\"landa_{0}_alpha\".format(landa_value)].append(alpha_correct_max(ratio_array[i],alpha))\n",
    "    d[\"df{0}\".format(landa_value)][\"alpha_{0}\".format(landa_value)] = d[\"landa_{0}_alpha\".format(landa_value)]\n",
    "    \n",
    "    #betapitch\n",
    "    d[\"landa_{0}_beta_pitch\".format(landa_value)] = []\n",
    "    for i in range(len(ratio_array)):\n",
    "        d[\"landa_{0}_beta_pitch\".format(landa_value)].append(beta_pitch(d[\"df{0}\".format(landa_value)][\"alpha_{0}\".format(landa_value)].tolist()[i],d[\"df{0}\".format(landa_value)][\"beta_{0}\".format(landa_value)].tolist()[i]))\n",
    "    d[\"df{0}\".format(landa_value)][\"beta_pitch_{0}\".format(landa_value)] = d[\"landa_{0}_beta_pitch\".format(landa_value)]\n",
    "    \n",
    "    #cl\n",
    "    d[\"landa_{0}_cl\".format(landa_value)] = []\n",
    "    for i in range(len(ratio_array)):\n",
    "        for j in cl_cd_interpol.index:\n",
    "            if int(d[\"df{0}\".format(landa_value)][\"alpha_{0}\".format(landa_value)].values[i])== j:\n",
    "                d[\"landa_{0}_cl\".format(landa_value)].append((cl_cd_interpol['CL points'].values[j-1]))\n",
    "    d[\"df{0}\".format(landa_value)][\"cl_{0}\".format(landa_value)] = d[\"landa_{0}_cl\".format(landa_value)]\n",
    "    \n",
    "    #cd\n",
    "    d[\"landa_{0}_cd\".format(landa_value)] = []\n",
    "    for i in range(len(ratio_array)):\n",
    "        for j in cl_cd_interpol.index:\n",
    "            if int(d[\"df{0}\".format(landa_value)][\"alpha_{0}\".format(landa_value)].values[i])== j:\n",
    "                d[\"landa_{0}_cd\".format(landa_value)].append((cl_cd_interpol['CDpoints'].values[j-1]))\n",
    "    d[\"df{0}\".format(landa_value)][\"cd_{0}\".format(landa_value)] = d[\"landa_{0}_cd\".format(landa_value)]\n",
    "    \n",
    "    #C/R\n",
    "    d[\"landa_{0}_c/r\".format(landa_value)] = []\n",
    "    for i in range(len(ratio_array)):\n",
    "        d[\"landa_{0}_c/r\".format(landa_value)].append(c_r(d[\"df{0}\".format(landa_value)].index[i],d[\"df{0}\".format(landa_value)][\"cl_{0}\".format(landa_value)].tolist()[i],d[\"df{0}\".format(landa_value)][\"cd_{0}\".format(landa_value)].tolist()[i],d[\"df{0}\".format(landa_value)][\"landa_{0}\".format(landa_value)].tolist()[i]))\n",
    "    d[\"df{0}\".format(landa_value)][\"c/r_{0}\".format(landa_value)] = d[\"landa_{0}_c/r\".format(landa_value)]\n",
    "    \n",
    "    return d[\"df{0}\".format(landa_value)]"
   ]
  },
  {
   "cell_type": "code",
   "execution_count": 40,
   "metadata": {},
   "outputs": [
    {
     "data": {
      "image/png": "[encoded data removed]",
      "text/plain": [
       "<Figure size 432x288 with 1 Axes>"
      ]
     },
     "metadata": {
      "needs_background": "light"
     },
     "output_type": "display_data"
    }
   ],
   "source": [
    "plt.figure()\n",
    "df_plot_alpha = df_landa_cl_cd_correct_alphamax(1)\n",
    "x = df_plot_alpha.index\n",
    "y = df_plot_alpha['alpha_1']\n",
    "plt.plot(x,y, label='Alpha corrected(2)');\n",
    "plt.suptitle(\"Figure 11: Alpha correction(2)\")\n",
    "plt.legend()\n",
    "plt.savefig('imgs/alpha_correction_2.png')\n",
    "plt.show()"
   ]
  },
  {
   "cell_type": "code",
   "execution_count": 41,
   "metadata": {},
   "outputs": [
    {
     "data": {
      "image/png": "[encoded data removed]",
      "text/plain": [
       "<Figure size 432x288 with 1 Axes>"
      ]
     },
     "metadata": {
      "needs_background": "light"
     },
     "output_type": "display_data"
    }
   ],
   "source": [
    "df_comparison_original = df_landa(8)\n",
    "df_comparison_cl_cd_interpol = df_landa_cl_cd_correct(8)\n",
    "df_comparison_cl_cd_interpol_alphamax = df_landa_cl_cd_correct_alphamax(8)\n",
    "plt.figure()\n",
    "x = df_plot_alpha.index\n",
    "y1 = df_comparison_original['c/r_8']\n",
    "y2 = df_comparison_cl_cd_interpol['c/r_8']\n",
    "y3 = df_comparison_cl_cd_interpol_alphamax['c/r_8']\n",
    "plt.plot(x,y1, label='Original')\n",
    "plt.plot(x,y2, label='Interpolation')\n",
    "plt.plot(x,y3, label='Alpha max')\n",
    "plt.suptitle(\"Figure 12: Alphas comparison\")\n",
    "plt.legend()\n",
    "plt.savefig('imgs/alphas_comparison.png')\n",
    "plt.show()"
   ]
  },
  {
   "cell_type": "markdown",
   "metadata": {},
   "source": [
    "<font size=\"6\" color='red'>Question 13</font>"
   ]
  },
  {
   "cell_type": "markdown",
   "metadata": {},
   "source": [
    "<font size=\"5\" color='blue'>Percentage of therotor disk</font>"
   ]
  },
  {
   "cell_type": "code",
   "execution_count": 42,
   "metadata": {},
   "outputs": [
    {
     "data": {
      "text/html": [
       "<div>\n",
       "<style scoped>\n",
       "    .dataframe tbody tr th:only-of-type {\n",
       "        vertical-align: middle;\n",
       "    }\n",
       "\n",
       "    .dataframe tbody tr th {\n",
       "        vertical-align: top;\n",
       "    }\n",
       "\n",
       "    .dataframe thead th {\n",
       "        text-align: right;\n",
       "    }\n",
       "</style>\n",
       "<table border=\"1\" class=\"dataframe\">\n",
       "  <thead>\n",
       "    <tr style=\"text-align: right;\">\n",
       "      <th></th>\n",
       "      <th>Blade surface</th>\n",
       "      <th>log</th>\n",
       "    </tr>\n",
       "  </thead>\n",
       "  <tbody>\n",
       "    <tr>\n",
       "      <th>1</th>\n",
       "      <td>132.533463</td>\n",
       "      <td>2.122326</td>\n",
       "    </tr>\n",
       "    <tr>\n",
       "      <th>2</th>\n",
       "      <td>58.770982</td>\n",
       "      <td>1.769163</td>\n",
       "    </tr>\n",
       "    <tr>\n",
       "      <th>3</th>\n",
       "      <td>33.007433</td>\n",
       "      <td>1.518612</td>\n",
       "    </tr>\n",
       "    <tr>\n",
       "      <th>4</th>\n",
       "      <td>21.179349</td>\n",
       "      <td>1.325913</td>\n",
       "    </tr>\n",
       "    <tr>\n",
       "      <th>5</th>\n",
       "      <td>14.764554</td>\n",
       "      <td>1.169220</td>\n",
       "    </tr>\n",
       "    <tr>\n",
       "      <th>6</th>\n",
       "      <td>10.887174</td>\n",
       "      <td>1.036915</td>\n",
       "    </tr>\n",
       "    <tr>\n",
       "      <th>7</th>\n",
       "      <td>8.359696</td>\n",
       "      <td>0.922190</td>\n",
       "    </tr>\n",
       "    <tr>\n",
       "      <th>8</th>\n",
       "      <td>6.618338</td>\n",
       "      <td>0.820749</td>\n",
       "    </tr>\n",
       "    <tr>\n",
       "      <th>9</th>\n",
       "      <td>5.366817</td>\n",
       "      <td>0.729717</td>\n",
       "    </tr>\n",
       "    <tr>\n",
       "      <th>10</th>\n",
       "      <td>4.436926</td>\n",
       "      <td>0.647082</td>\n",
       "    </tr>\n",
       "  </tbody>\n",
       "</table>\n",
       "</div>"
      ],
      "text/plain": [
       "    Blade surface       log\n",
       "1      132.533463  2.122326\n",
       "2       58.770982  1.769163\n",
       "3       33.007433  1.518612\n",
       "4       21.179349  1.325913\n",
       "5       14.764554  1.169220\n",
       "6       10.887174  1.036915\n",
       "7        8.359696  0.922190\n",
       "8        6.618338  0.820749\n",
       "9        5.366817  0.729717\n",
       "10       4.436926  0.647082"
      ]
     },
     "execution_count": 42,
     "metadata": {},
     "output_type": "execute_result"
    }
   ],
   "source": [
    "coeff_mul = {}\n",
    "idx = []\n",
    "for i in range(10):\n",
    "    df_original = df_landa_cl_cd_correct_alphamax(i+1)\n",
    "    coeff_mul[\"{0}\".format(i+1)]=df_original[\"c/r_{0}\".format(i+1)].mul((df_original[\"beta_pitch_{0}\".format(i+1)]).apply(lambda x: math.cos(math.radians(x)))).sum()\n",
    "df_coeff_mul = pd.DataFrame(coeff_mul, index=['sum'])\n",
    "df_coeff_mul = df_coeff_mul.T\n",
    "df_coeff_mul['Blade surface'] = df_coeff_mul['sum'].apply(lambda x: x*15/math.pi)\n",
    "df_coeff_mul.drop('sum', axis=1, inplace=True)\n",
    "df_coeff_mul['log'] = df_coeff_mul['Blade surface'].apply(lambda x: math.log10(x))\n",
    "df_coeff_mul"
   ]
  },
  {
   "cell_type": "code",
   "execution_count": 43,
   "metadata": {},
   "outputs": [
    {
     "data": {
      "image/png": "[encoded data removed]",
      "text/plain": [
       "<Figure size 432x288 with 1 Axes>"
      ]
     },
     "metadata": {
      "needs_background": "light"
     },
     "output_type": "display_data"
    }
   ],
   "source": [
    "plt.figure()\n",
    "plt.plot(df_coeff_mul['log']);\n",
    "plt.suptitle(\"Figure 13: Blade surface(log)\")\n",
    "plt.legend()\n",
    "plt.savefig('imgs/blade_surface.png')\n",
    "plt.show()"
   ]
  },
  {
   "cell_type": "code",
   "execution_count": 44,
   "metadata": {},
   "outputs": [],
   "source": [
    "#useful for later\n",
    "radius = 45\n",
    "rotor_disk_surface = math.pi*radius"
   ]
  },
  {
   "cell_type": "markdown",
   "metadata": {},
   "source": [
    "<font size=\"6\" color='red'>Question 14</font>"
   ]
  },
  {
   "cell_type": "markdown",
   "metadata": {},
   "source": [
    "<font size=\"5\" color='blue'>Coefficient as function of lambda</font>"
   ]
  },
  {
   "cell_type": "code",
   "execution_count": 45,
   "metadata": {},
   "outputs": [],
   "source": [
    "def ct(ratio):\n",
    "    return ratio*(1/3)*(2/3)"
   ]
  },
  {
   "cell_type": "code",
   "execution_count": 46,
   "metadata": {},
   "outputs": [],
   "source": [
    "def cm(ratio, landa, beta, cl, cd, cr):\n",
    "    return ((4/9+(landa**2))*((cl*math.sin(math.radians(beta)))-(cd*math.cos(math.radians(beta)))*cr*ratio))"
   ]
  },
  {
   "cell_type": "code",
   "execution_count": 47,
   "metadata": {},
   "outputs": [],
   "source": [
    "def df_landa_cl_cd_correct_alphamax_coefficients(landa_value):\n",
    "    d={}\n",
    "    d[\"df{0}\".format(landa_value)] = pd.DataFrame(ratio_array, columns=[\"r/R\"])\n",
    "    d[\"df{0}\".format(landa_value)].set_index('r/R', inplace=True)\n",
    "    \n",
    "    #landa\n",
    "    d[\"landa_{0}\".format(landa_value)] = []\n",
    "    for i in range(len(ratio_array)):\n",
    "         d[\"landa_{0}\".format(landa_value)].append(landa(landa_value,ratio_array[i]))\n",
    "    d[\"df{0}\".format(landa_value)][\"landa_{0}\".format(landa_value)] = d[\"landa_{0}\".format(landa_value)]\n",
    "    \n",
    "    #beta\n",
    "    d[\"landa_{0}_beta\".format(landa_value)] = []\n",
    "    for i in range(len(ratio_array)):\n",
    "         d[\"landa_{0}_beta\".format(landa_value)].append(beta(d[\"landa_{0}\".format(landa_value)][i]))\n",
    "    d[\"df{0}\".format(landa_value)][\"beta_{0}\".format(landa_value)] = d[\"landa_{0}_beta\".format(landa_value)]\n",
    "    \n",
    "    #alpha\n",
    "    alpha = best_angle\n",
    "    d[\"landa_{0}_alpha\".format(landa_value)] = []\n",
    "    for i in range(len(ratio_array)):\n",
    "         d[\"landa_{0}_alpha\".format(landa_value)].append(alpha_correct_max(ratio_array[i],alpha))\n",
    "    d[\"df{0}\".format(landa_value)][\"alpha_{0}\".format(landa_value)] = d[\"landa_{0}_alpha\".format(landa_value)]\n",
    "    \n",
    "    #betapitch\n",
    "    d[\"landa_{0}_beta_pitch\".format(landa_value)] = []\n",
    "    for i in range(len(ratio_array)):\n",
    "        d[\"landa_{0}_beta_pitch\".format(landa_value)].append(beta_pitch(d[\"df{0}\".format(landa_value)][\"alpha_{0}\".format(landa_value)].tolist()[i],d[\"df{0}\".format(landa_value)][\"beta_{0}\".format(landa_value)].tolist()[i]))\n",
    "    d[\"df{0}\".format(landa_value)][\"beta_pitch_{0}\".format(landa_value)] = d[\"landa_{0}_beta_pitch\".format(landa_value)]\n",
    "    \n",
    "    #cl\n",
    "    d[\"landa_{0}_cl\".format(landa_value)] = []\n",
    "    for i in range(len(ratio_array)):\n",
    "        for j in cl_cd_interpol.index:\n",
    "            if int(d[\"df{0}\".format(landa_value)][\"alpha_{0}\".format(landa_value)].values[i])== j:\n",
    "                d[\"landa_{0}_cl\".format(landa_value)].append((cl_cd_interpol['CL points'].values[j-1]))\n",
    "    d[\"df{0}\".format(landa_value)][\"cl_{0}\".format(landa_value)] = d[\"landa_{0}_cl\".format(landa_value)]\n",
    "    \n",
    "    #cd\n",
    "    d[\"landa_{0}_cd\".format(landa_value)] = []\n",
    "    for i in range(len(ratio_array)):\n",
    "        for j in cl_cd_interpol.index:\n",
    "            if int(d[\"df{0}\".format(landa_value)][\"alpha_{0}\".format(landa_value)].values[i])== j:\n",
    "                d[\"landa_{0}_cd\".format(landa_value)].append((cl_cd_interpol['CDpoints'].values[j-1]))\n",
    "    d[\"df{0}\".format(landa_value)][\"cd_{0}\".format(landa_value)] = d[\"landa_{0}_cd\".format(landa_value)]\n",
    "    \n",
    "    #C/R\n",
    "    d[\"landa_{0}_c/r\".format(landa_value)] = []\n",
    "    for i in range(len(ratio_array)):\n",
    "        d[\"landa_{0}_c/r\".format(landa_value)].append(c_r(d[\"df{0}\".format(landa_value)].index[i],d[\"df{0}\".format(landa_value)][\"cl_{0}\".format(landa_value)].tolist()[i],d[\"df{0}\".format(landa_value)][\"cd_{0}\".format(landa_value)].tolist()[i],d[\"df{0}\".format(landa_value)][\"landa_{0}\".format(landa_value)].tolist()[i]))\n",
    "    d[\"df{0}\".format(landa_value)][\"c/r_{0}\".format(landa_value)] = d[\"landa_{0}_c/r\".format(landa_value)]\n",
    "    \n",
    "    #Ct\n",
    "    d[\"landa_{0}_ct\".format(landa_value)] = []\n",
    "    for i in range(len(ratio_array)):\n",
    "        d[\"landa_{0}_ct\".format(landa_value)].append(ct(ratio_array[i]))\n",
    "    d[\"df{0}\".format(landa_value)][\"ct_{0}\".format(landa_value)] = d[\"landa_{0}_ct\".format(landa_value)]\n",
    "    \n",
    "    #Cm\n",
    "    d[\"landa_{0}_cm\".format(landa_value)] = []\n",
    "    for i in range(len(ratio_array)):\n",
    "        d[\"landa_{0}_cm\".format(landa_value)].append(cm(ratio_array[i], d[\"df{0}\".format(landa_value)][\"landa_{0}\".format(landa_value)].tolist()[i], d[\"df{0}\".format(landa_value)][\"beta_{0}\".format(landa_value)].tolist()[i], d[\"df{0}\".format(landa_value)][\"cl_{0}\".format(landa_value)].tolist()[i], d[\"df{0}\".format(landa_value)][\"cd_{0}\".format(landa_value)].tolist()[i], d[\"df{0}\".format(landa_value)][\"c/r_{0}\".format(landa_value)].tolist()[i]))\n",
    "    d[\"df{0}\".format(landa_value)][\"cm_{0}\".format(landa_value)] = d[\"landa_{0}_cm\".format(landa_value)]\n",
    "\n",
    "    \n",
    "    return d[\"df{0}\".format(landa_value)]"
   ]
  },
  {
   "cell_type": "code",
   "execution_count": 48,
   "metadata": {},
   "outputs": [
    {
     "data": {
      "text/html": [
       "<div>\n",
       "<style scoped>\n",
       "    .dataframe tbody tr th:only-of-type {\n",
       "        vertical-align: middle;\n",
       "    }\n",
       "\n",
       "    .dataframe tbody tr th {\n",
       "        vertical-align: top;\n",
       "    }\n",
       "\n",
       "    .dataframe thead th {\n",
       "        text-align: right;\n",
       "    }\n",
       "</style>\n",
       "<table border=\"1\" class=\"dataframe\">\n",
       "  <thead>\n",
       "    <tr style=\"text-align: right;\">\n",
       "      <th></th>\n",
       "      <th>landa_1</th>\n",
       "      <th>beta_1</th>\n",
       "      <th>alpha_1</th>\n",
       "      <th>beta_pitch_1</th>\n",
       "      <th>cl_1</th>\n",
       "      <th>cd_1</th>\n",
       "      <th>c/r_1</th>\n",
       "      <th>ct_1</th>\n",
       "      <th>cm_1</th>\n",
       "    </tr>\n",
       "    <tr>\n",
       "      <th>r/R</th>\n",
       "      <th></th>\n",
       "      <th></th>\n",
       "      <th></th>\n",
       "      <th></th>\n",
       "      <th></th>\n",
       "      <th></th>\n",
       "      <th></th>\n",
       "      <th></th>\n",
       "      <th></th>\n",
       "    </tr>\n",
       "  </thead>\n",
       "  <tbody>\n",
       "    <tr>\n",
       "      <th>0.075</th>\n",
       "      <td>0.075</td>\n",
       "      <td>83.581213</td>\n",
       "      <td>15.628709</td>\n",
       "      <td>67.952504</td>\n",
       "      <td>1.1754</td>\n",
       "      <td>0.0219</td>\n",
       "      <td>2.025464</td>\n",
       "      <td>0.016667</td>\n",
       "      <td>0.525528</td>\n",
       "    </tr>\n",
       "    <tr>\n",
       "      <th>0.125</th>\n",
       "      <td>0.125</td>\n",
       "      <td>79.380345</td>\n",
       "      <td>13.571068</td>\n",
       "      <td>65.809277</td>\n",
       "      <td>1.1555</td>\n",
       "      <td>0.0180</td>\n",
       "      <td>2.193126</td>\n",
       "      <td>0.027778</td>\n",
       "      <td>0.522087</td>\n",
       "    </tr>\n",
       "    <tr>\n",
       "      <th>0.175</th>\n",
       "      <td>0.175</td>\n",
       "      <td>75.291696</td>\n",
       "      <td>12.476143</td>\n",
       "      <td>62.815553</td>\n",
       "      <td>1.1296</td>\n",
       "      <td>0.0163</td>\n",
       "      <td>2.266535</td>\n",
       "      <td>0.038889</td>\n",
       "      <td>0.518273</td>\n",
       "    </tr>\n",
       "    <tr>\n",
       "      <th>0.225</th>\n",
       "      <td>0.225</td>\n",
       "      <td>71.350461</td>\n",
       "      <td>11.770463</td>\n",
       "      <td>59.579998</td>\n",
       "      <td>1.0704</td>\n",
       "      <td>0.0149</td>\n",
       "      <td>2.373964</td>\n",
       "      <td>0.050000</td>\n",
       "      <td>0.500837</td>\n",
       "    </tr>\n",
       "    <tr>\n",
       "      <th>0.275</th>\n",
       "      <td>0.275</td>\n",
       "      <td>67.583853</td>\n",
       "      <td>11.267313</td>\n",
       "      <td>56.316540</td>\n",
       "      <td>1.0704</td>\n",
       "      <td>0.0149</td>\n",
       "      <td>2.333005</td>\n",
       "      <td>0.061111</td>\n",
       "      <td>0.512723</td>\n",
       "    </tr>\n",
       "  </tbody>\n",
       "</table>\n",
       "</div>"
      ],
      "text/plain": [
       "       landa_1     beta_1    alpha_1  beta_pitch_1    cl_1    cd_1     c/r_1  \\\n",
       "r/R                                                                            \n",
       "0.075    0.075  83.581213  15.628709     67.952504  1.1754  0.0219  2.025464   \n",
       "0.125    0.125  79.380345  13.571068     65.809277  1.1555  0.0180  2.193126   \n",
       "0.175    0.175  75.291696  12.476143     62.815553  1.1296  0.0163  2.266535   \n",
       "0.225    0.225  71.350461  11.770463     59.579998  1.0704  0.0149  2.373964   \n",
       "0.275    0.275  67.583853  11.267313     56.316540  1.0704  0.0149  2.333005   \n",
       "\n",
       "           ct_1      cm_1  \n",
       "r/R                        \n",
       "0.075  0.016667  0.525528  \n",
       "0.125  0.027778  0.522087  \n",
       "0.175  0.038889  0.518273  \n",
       "0.225  0.050000  0.500837  \n",
       "0.275  0.061111  0.512723  "
      ]
     },
     "execution_count": 48,
     "metadata": {},
     "output_type": "execute_result"
    }
   ],
   "source": [
    "df_landa_cl_cd_correct_alphamax_coefficients(1).head()"
   ]
  },
  {
   "cell_type": "code",
   "execution_count": 49,
   "metadata": {},
   "outputs": [
    {
     "data": {
      "text/html": [
       "<div>\n",
       "<style scoped>\n",
       "    .dataframe tbody tr th:only-of-type {\n",
       "        vertical-align: middle;\n",
       "    }\n",
       "\n",
       "    .dataframe tbody tr th {\n",
       "        vertical-align: top;\n",
       "    }\n",
       "\n",
       "    .dataframe thead th {\n",
       "        text-align: right;\n",
       "    }\n",
       "</style>\n",
       "<table border=\"1\" class=\"dataframe\">\n",
       "  <thead>\n",
       "    <tr style=\"text-align: right;\">\n",
       "      <th></th>\n",
       "      <th>Ct</th>\n",
       "      <th>Cm</th>\n",
       "      <th>Cp</th>\n",
       "    </tr>\n",
       "    <tr>\n",
       "      <th>landa</th>\n",
       "      <th></th>\n",
       "      <th></th>\n",
       "      <th></th>\n",
       "    </tr>\n",
       "  </thead>\n",
       "  <tbody>\n",
       "    <tr>\n",
       "      <th>1.0</th>\n",
       "      <td>0.886667</td>\n",
       "      <td>0.514840</td>\n",
       "      <td>0.514840</td>\n",
       "    </tr>\n",
       "    <tr>\n",
       "      <th>2.0</th>\n",
       "      <td>0.886667</td>\n",
       "      <td>0.750268</td>\n",
       "      <td>1.500536</td>\n",
       "    </tr>\n",
       "    <tr>\n",
       "      <th>3.0</th>\n",
       "      <td>0.886667</td>\n",
       "      <td>1.019457</td>\n",
       "      <td>3.058371</td>\n",
       "    </tr>\n",
       "    <tr>\n",
       "      <th>4.0</th>\n",
       "      <td>0.886667</td>\n",
       "      <td>1.302327</td>\n",
       "      <td>5.209308</td>\n",
       "    </tr>\n",
       "    <tr>\n",
       "      <th>5.0</th>\n",
       "      <td>0.886667</td>\n",
       "      <td>1.592150</td>\n",
       "      <td>7.960748</td>\n",
       "    </tr>\n",
       "    <tr>\n",
       "      <th>6.0</th>\n",
       "      <td>0.886667</td>\n",
       "      <td>1.886019</td>\n",
       "      <td>11.316115</td>\n",
       "    </tr>\n",
       "    <tr>\n",
       "      <th>7.0</th>\n",
       "      <td>0.886667</td>\n",
       "      <td>2.182464</td>\n",
       "      <td>15.277250</td>\n",
       "    </tr>\n",
       "    <tr>\n",
       "      <th>8.0</th>\n",
       "      <td>0.886667</td>\n",
       "      <td>2.480655</td>\n",
       "      <td>19.845242</td>\n",
       "    </tr>\n",
       "    <tr>\n",
       "      <th>9.0</th>\n",
       "      <td>0.886667</td>\n",
       "      <td>2.780086</td>\n",
       "      <td>25.020774</td>\n",
       "    </tr>\n",
       "    <tr>\n",
       "      <th>10.0</th>\n",
       "      <td>0.886667</td>\n",
       "      <td>3.080430</td>\n",
       "      <td>30.804297</td>\n",
       "    </tr>\n",
       "  </tbody>\n",
       "</table>\n",
       "</div>"
      ],
      "text/plain": [
       "             Ct        Cm         Cp\n",
       "landa                               \n",
       "1.0    0.886667  0.514840   0.514840\n",
       "2.0    0.886667  0.750268   1.500536\n",
       "3.0    0.886667  1.019457   3.058371\n",
       "4.0    0.886667  1.302327   5.209308\n",
       "5.0    0.886667  1.592150   7.960748\n",
       "6.0    0.886667  1.886019  11.316115\n",
       "7.0    0.886667  2.182464  15.277250\n",
       "8.0    0.886667  2.480655  19.845242\n",
       "9.0    0.886667  2.780086  25.020774\n",
       "10.0   0.886667  3.080430  30.804297"
      ]
     },
     "execution_count": 49,
     "metadata": {},
     "output_type": "execute_result"
    }
   ],
   "source": [
    "df_coefficients = pd.DataFrame(columns=['landa','Ct','Cm','Cp'])\n",
    "for i in range(10):\n",
    "    df_int = df_landa_cl_cd_correct_alphamax_coefficients(i+1)\n",
    "    landa_int = i+1\n",
    "    ct_int = df_int[\"ct_{0}\".format(i+1)].sum()*8*slice_radius\n",
    "    cm_int = df_int[\"cm_{0}\".format(i+1)].sum()*slice_radius*blade_number/math.pi\n",
    "    cp_int = cm_int*(i+1)\n",
    "    df_coefficients.loc[df_coefficients.shape[0]] = [landa_int, ct_int, cm_int, cp_int]\n",
    "df_coefficients.set_index('landa', inplace=True)\n",
    "df_coefficients"
   ]
  },
  {
   "cell_type": "markdown",
   "metadata": {},
   "source": [
    "<font size=\"6\" color='red'>Question 15</font>"
   ]
  },
  {
   "cell_type": "markdown",
   "metadata": {},
   "source": [
    "<font size=\"5\" color='blue'>Lif Drag Ratio(CL/CD)</font>"
   ]
  },
  {
   "cell_type": "code",
   "execution_count": 50,
   "metadata": {},
   "outputs": [
    {
     "data": {
      "image/png": "[encoded data removed]",
      "text/plain": [
       "<Figure size 432x288 with 1 Axes>"
      ]
     },
     "metadata": {
      "needs_background": "light"
     },
     "output_type": "display_data"
    }
   ],
   "source": [
    "plt.figure()\n",
    "plt.plot((cl_cd_interpol['CL points']/cl_cd_interpol['CDpoints']), label='Original')\n",
    "plt.plot((cl_cd_interpol['CL points']/(cl_cd_interpol['CDpoints']*1.5)), label='r>1')\n",
    "plt.plot((cl_cd_interpol['CL points']/(cl_cd_interpol['CDpoints']*.5)), label='r<1')\n",
    "plt.suptitle(\"Figure 14: LDR Comparison\")\n",
    "plt.legend()\n",
    "plt.savefig('imgs/ldr_comparison.png')\n",
    "plt.show()"
   ]
  },
  {
   "cell_type": "markdown",
   "metadata": {},
   "source": [
    "<font size=\"6\" color='red'>Part 2</font>"
   ]
  },
  {
   "cell_type": "markdown",
   "metadata": {},
   "source": [
    "<font size=\"5\" color='blue'>Data</font>"
   ]
  },
  {
   "cell_type": "code",
   "execution_count": 51,
   "metadata": {},
   "outputs": [
    {
     "data": {
      "text/html": [
       "<div>\n",
       "<style scoped>\n",
       "    .dataframe tbody tr th:only-of-type {\n",
       "        vertical-align: middle;\n",
       "    }\n",
       "\n",
       "    .dataframe tbody tr th {\n",
       "        vertical-align: top;\n",
       "    }\n",
       "\n",
       "    .dataframe thead th {\n",
       "        text-align: right;\n",
       "    }\n",
       "</style>\n",
       "<table border=\"1\" class=\"dataframe\">\n",
       "  <thead>\n",
       "    <tr style=\"text-align: right;\">\n",
       "      <th></th>\n",
       "      <th>hours k=2</th>\n",
       "      <th>hours k=4</th>\n",
       "    </tr>\n",
       "    <tr>\n",
       "      <th>V0 m/s</th>\n",
       "      <th></th>\n",
       "      <th></th>\n",
       "    </tr>\n",
       "  </thead>\n",
       "  <tbody>\n",
       "    <tr>\n",
       "      <th>2</th>\n",
       "      <td>173</td>\n",
       "      <td>0</td>\n",
       "    </tr>\n",
       "    <tr>\n",
       "      <th>3</th>\n",
       "      <td>318</td>\n",
       "      <td>36</td>\n",
       "    </tr>\n",
       "    <tr>\n",
       "      <th>4</th>\n",
       "      <td>451</td>\n",
       "      <td>131</td>\n",
       "    </tr>\n",
       "    <tr>\n",
       "      <th>5</th>\n",
       "      <td>556</td>\n",
       "      <td>291</td>\n",
       "    </tr>\n",
       "    <tr>\n",
       "      <th>6</th>\n",
       "      <td>618</td>\n",
       "      <td>524</td>\n",
       "    </tr>\n",
       "    <tr>\n",
       "      <th>7</th>\n",
       "      <td>650</td>\n",
       "      <td>815</td>\n",
       "    </tr>\n",
       "    <tr>\n",
       "      <th>8</th>\n",
       "      <td>654</td>\n",
       "      <td>1056</td>\n",
       "    </tr>\n",
       "    <tr>\n",
       "      <th>9</th>\n",
       "      <td>622</td>\n",
       "      <td>1194</td>\n",
       "    </tr>\n",
       "    <tr>\n",
       "      <th>10</th>\n",
       "      <td>570</td>\n",
       "      <td>1130</td>\n",
       "    </tr>\n",
       "    <tr>\n",
       "      <th>11</th>\n",
       "      <td>506</td>\n",
       "      <td>874</td>\n",
       "    </tr>\n",
       "    <tr>\n",
       "      <th>12</th>\n",
       "      <td>434</td>\n",
       "      <td>546</td>\n",
       "    </tr>\n",
       "    <tr>\n",
       "      <th>13</th>\n",
       "      <td>358</td>\n",
       "      <td>262</td>\n",
       "    </tr>\n",
       "    <tr>\n",
       "      <th>14</th>\n",
       "      <td>293</td>\n",
       "      <td>116</td>\n",
       "    </tr>\n",
       "    <tr>\n",
       "      <th>15</th>\n",
       "      <td>231</td>\n",
       "      <td>29</td>\n",
       "    </tr>\n",
       "    <tr>\n",
       "      <th>16</th>\n",
       "      <td>177</td>\n",
       "      <td>0</td>\n",
       "    </tr>\n",
       "    <tr>\n",
       "      <th>17</th>\n",
       "      <td>126</td>\n",
       "      <td>0</td>\n",
       "    </tr>\n",
       "    <tr>\n",
       "      <th>18</th>\n",
       "      <td>87</td>\n",
       "      <td>0</td>\n",
       "    </tr>\n",
       "    <tr>\n",
       "      <th>19</th>\n",
       "      <td>58</td>\n",
       "      <td>0</td>\n",
       "    </tr>\n",
       "    <tr>\n",
       "      <th>20</th>\n",
       "      <td>40</td>\n",
       "      <td>0</td>\n",
       "    </tr>\n",
       "    <tr>\n",
       "      <th>21</th>\n",
       "      <td>29</td>\n",
       "      <td>0</td>\n",
       "    </tr>\n",
       "    <tr>\n",
       "      <th>22</th>\n",
       "      <td>22</td>\n",
       "      <td>0</td>\n",
       "    </tr>\n",
       "    <tr>\n",
       "      <th>23</th>\n",
       "      <td>18</td>\n",
       "      <td>0</td>\n",
       "    </tr>\n",
       "    <tr>\n",
       "      <th>24</th>\n",
       "      <td>14</td>\n",
       "      <td>0</td>\n",
       "    </tr>\n",
       "  </tbody>\n",
       "</table>\n",
       "</div>"
      ],
      "text/plain": [
       "        hours k=2  hours k=4\n",
       "V0 m/s                      \n",
       "2             173          0\n",
       "3             318         36\n",
       "4             451        131\n",
       "5             556        291\n",
       "6             618        524\n",
       "7             650        815\n",
       "8             654       1056\n",
       "9             622       1194\n",
       "10            570       1130\n",
       "11            506        874\n",
       "12            434        546\n",
       "13            358        262\n",
       "14            293        116\n",
       "15            231         29\n",
       "16            177          0\n",
       "17            126          0\n",
       "18             87          0\n",
       "19             58          0\n",
       "20             40          0\n",
       "21             29          0\n",
       "22             22          0\n",
       "23             18          0\n",
       "24             14          0"
      ]
     },
     "execution_count": 51,
     "metadata": {},
     "output_type": "execute_result"
    }
   ],
   "source": [
    "prod = pd.read_csv('data/part_2.csv', index_col=0)\n",
    "prod"
   ]
  },
  {
   "cell_type": "markdown",
   "metadata": {},
   "source": [
    "<font size=\"6\" color='red'>Question 1</font>"
   ]
  },
  {
   "cell_type": "code",
   "execution_count": 52,
   "metadata": {},
   "outputs": [
    {
     "data": {
      "image/png": "[encoded data removed]",
      "text/plain": [
       "<Figure size 432x288 with 1 Axes>"
      ]
     },
     "metadata": {
      "needs_background": "light"
     },
     "output_type": "display_data"
    }
   ],
   "source": [
    "plt.figure()\n",
    "plt.plot(prod['hours k=2'])\n",
    "plt.plot(prod['hours k=4'])\n",
    "plt.suptitle(\"Figure 15: Wind speed vs Vekocity\")\n",
    "plt.legend()\n",
    "plt.savefig('imgs/wind_velocity.png')\n",
    "plt.show()"
   ]
  },
  {
   "cell_type": "code",
   "execution_count": 53,
   "metadata": {},
   "outputs": [
    {
     "data": {
      "text/html": [
       "<div>\n",
       "<style scoped>\n",
       "    .dataframe tbody tr th:only-of-type {\n",
       "        vertical-align: middle;\n",
       "    }\n",
       "\n",
       "    .dataframe tbody tr th {\n",
       "        vertical-align: top;\n",
       "    }\n",
       "\n",
       "    .dataframe thead th {\n",
       "        text-align: right;\n",
       "    }\n",
       "</style>\n",
       "<table border=\"1\" class=\"dataframe\">\n",
       "  <thead>\n",
       "    <tr style=\"text-align: right;\">\n",
       "      <th></th>\n",
       "      <th>k</th>\n",
       "      <th>Percentage</th>\n",
       "    </tr>\n",
       "  </thead>\n",
       "  <tbody>\n",
       "    <tr>\n",
       "      <th>0</th>\n",
       "      <td>hours k=2</td>\n",
       "      <td>79.965753</td>\n",
       "    </tr>\n",
       "    <tr>\n",
       "      <th>1</th>\n",
       "      <td>hours k=4</td>\n",
       "      <td>79.954338</td>\n",
       "    </tr>\n",
       "  </tbody>\n",
       "</table>\n",
       "</div>"
      ],
      "text/plain": [
       "           k  Percentage\n",
       "0  hours k=2   79.965753\n",
       "1  hours k=4   79.954338"
      ]
     },
     "execution_count": 53,
     "metadata": {},
     "output_type": "execute_result"
    }
   ],
   "source": [
    "df_percentage= pd.DataFrame(columns=['k','Percentage'])\n",
    "df_percentage.loc[df_percentage.shape[0]] = [\"hours k=2\", prod['hours k=2'].sum()/(365*24)*100]\n",
    "df_percentage.loc[df_percentage.shape[0]] = [\"hours k=4\", prod['hours k=4'].sum()/(365*24)*100]\n",
    "df_percentage"
   ]
  },
  {
   "cell_type": "markdown",
   "metadata": {},
   "source": [
    "<font size=\"6\" color='red'>Question 2</font>"
   ]
  },
  {
   "cell_type": "markdown",
   "metadata": {},
   "source": [
    "<font size=\"5\" color='blue'>Power</font>"
   ]
  },
  {
   "cell_type": "code",
   "execution_count": 54,
   "metadata": {},
   "outputs": [],
   "source": [
    "rho = 1.2"
   ]
  },
  {
   "cell_type": "code",
   "execution_count": 55,
   "metadata": {},
   "outputs": [
    {
     "data": {
      "text/html": [
       "<div>\n",
       "<style scoped>\n",
       "    .dataframe tbody tr th:only-of-type {\n",
       "        vertical-align: middle;\n",
       "    }\n",
       "\n",
       "    .dataframe tbody tr th {\n",
       "        vertical-align: top;\n",
       "    }\n",
       "\n",
       "    .dataframe thead th {\n",
       "        text-align: right;\n",
       "    }\n",
       "</style>\n",
       "<table border=\"1\" class=\"dataframe\">\n",
       "  <thead>\n",
       "    <tr style=\"text-align: right;\">\n",
       "      <th></th>\n",
       "      <th>hours k=2</th>\n",
       "      <th>hours k=4</th>\n",
       "      <th>power</th>\n",
       "    </tr>\n",
       "    <tr>\n",
       "      <th>V0 m/s</th>\n",
       "      <th></th>\n",
       "      <th></th>\n",
       "      <th></th>\n",
       "    </tr>\n",
       "  </thead>\n",
       "  <tbody>\n",
       "    <tr>\n",
       "      <th>2</th>\n",
       "      <td>173</td>\n",
       "      <td>0</td>\n",
       "      <td>0.0048</td>\n",
       "    </tr>\n",
       "    <tr>\n",
       "      <th>3</th>\n",
       "      <td>318</td>\n",
       "      <td>36</td>\n",
       "      <td>0.0162</td>\n",
       "    </tr>\n",
       "    <tr>\n",
       "      <th>4</th>\n",
       "      <td>451</td>\n",
       "      <td>131</td>\n",
       "      <td>0.0384</td>\n",
       "    </tr>\n",
       "    <tr>\n",
       "      <th>5</th>\n",
       "      <td>556</td>\n",
       "      <td>291</td>\n",
       "      <td>0.0750</td>\n",
       "    </tr>\n",
       "    <tr>\n",
       "      <th>6</th>\n",
       "      <td>618</td>\n",
       "      <td>524</td>\n",
       "      <td>0.1296</td>\n",
       "    </tr>\n",
       "  </tbody>\n",
       "</table>\n",
       "</div>"
      ],
      "text/plain": [
       "        hours k=2  hours k=4   power\n",
       "V0 m/s                              \n",
       "2             173          0  0.0048\n",
       "3             318         36  0.0162\n",
       "4             451        131  0.0384\n",
       "5             556        291  0.0750\n",
       "6             618        524  0.1296"
      ]
     },
     "execution_count": 55,
     "metadata": {},
     "output_type": "execute_result"
    }
   ],
   "source": [
    "power = []\n",
    "for velocity in prod.index:\n",
    "    power.append(.5*rho*velocity**3/1000)\n",
    "prod['power']=power\n",
    "prod.head()"
   ]
  },
  {
   "cell_type": "markdown",
   "metadata": {},
   "source": [
    "<font size=\"5\" color='blue'>Energy</font>"
   ]
  },
  {
   "cell_type": "code",
   "execution_count": 56,
   "metadata": {},
   "outputs": [
    {
     "data": {
      "text/html": [
       "<div>\n",
       "<style scoped>\n",
       "    .dataframe tbody tr th:only-of-type {\n",
       "        vertical-align: middle;\n",
       "    }\n",
       "\n",
       "    .dataframe tbody tr th {\n",
       "        vertical-align: top;\n",
       "    }\n",
       "\n",
       "    .dataframe thead th {\n",
       "        text-align: right;\n",
       "    }\n",
       "</style>\n",
       "<table border=\"1\" class=\"dataframe\">\n",
       "  <thead>\n",
       "    <tr style=\"text-align: right;\">\n",
       "      <th></th>\n",
       "      <th>hours k=2</th>\n",
       "      <th>hours k=4</th>\n",
       "      <th>power</th>\n",
       "      <th>energy_k2</th>\n",
       "      <th>energy_k4</th>\n",
       "    </tr>\n",
       "    <tr>\n",
       "      <th>V0 m/s</th>\n",
       "      <th></th>\n",
       "      <th></th>\n",
       "      <th></th>\n",
       "      <th></th>\n",
       "      <th></th>\n",
       "    </tr>\n",
       "  </thead>\n",
       "  <tbody>\n",
       "    <tr>\n",
       "      <th>2</th>\n",
       "      <td>173</td>\n",
       "      <td>0</td>\n",
       "      <td>0.0048</td>\n",
       "      <td>0.8304</td>\n",
       "      <td>0.0000</td>\n",
       "    </tr>\n",
       "    <tr>\n",
       "      <th>3</th>\n",
       "      <td>318</td>\n",
       "      <td>36</td>\n",
       "      <td>0.0162</td>\n",
       "      <td>5.1516</td>\n",
       "      <td>0.5832</td>\n",
       "    </tr>\n",
       "    <tr>\n",
       "      <th>4</th>\n",
       "      <td>451</td>\n",
       "      <td>131</td>\n",
       "      <td>0.0384</td>\n",
       "      <td>17.3184</td>\n",
       "      <td>5.0304</td>\n",
       "    </tr>\n",
       "    <tr>\n",
       "      <th>5</th>\n",
       "      <td>556</td>\n",
       "      <td>291</td>\n",
       "      <td>0.0750</td>\n",
       "      <td>41.7000</td>\n",
       "      <td>21.8250</td>\n",
       "    </tr>\n",
       "    <tr>\n",
       "      <th>6</th>\n",
       "      <td>618</td>\n",
       "      <td>524</td>\n",
       "      <td>0.1296</td>\n",
       "      <td>80.0928</td>\n",
       "      <td>67.9104</td>\n",
       "    </tr>\n",
       "  </tbody>\n",
       "</table>\n",
       "</div>"
      ],
      "text/plain": [
       "        hours k=2  hours k=4   power  energy_k2  energy_k4\n",
       "V0 m/s                                                    \n",
       "2             173          0  0.0048     0.8304     0.0000\n",
       "3             318         36  0.0162     5.1516     0.5832\n",
       "4             451        131  0.0384    17.3184     5.0304\n",
       "5             556        291  0.0750    41.7000    21.8250\n",
       "6             618        524  0.1296    80.0928    67.9104"
      ]
     },
     "execution_count": 56,
     "metadata": {},
     "output_type": "execute_result"
    }
   ],
   "source": [
    "energy_k2 = []\n",
    "for i in range(len(prod)):\n",
    "    energy_k2.append(prod['hours k=2'].tolist()[i]*prod['power'].tolist()[i])\n",
    "prod['energy_k2']=energy_k2\n",
    "\n",
    "energy_k4 = []\n",
    "for i in range(len(prod)):\n",
    "    energy_k4.append(prod['hours k=4'].tolist()[i]*prod['power'].tolist()[i])\n",
    "prod['energy_k4']=energy_k4\n",
    "\n",
    "prod.head()"
   ]
  },
  {
   "cell_type": "code",
   "execution_count": 57,
   "metadata": {},
   "outputs": [
    {
     "data": {
      "image/png": "[encoded data removed]",
      "text/plain": [
       "<Figure size 432x288 with 1 Axes>"
      ]
     },
     "metadata": {
      "needs_background": "light"
     },
     "output_type": "display_data"
    }
   ],
   "source": [
    "plt.figure()\n",
    "plt.plot(prod['energy_k2'], label='Energy k=2')\n",
    "plt.plot(prod['energy_k4'], label='Energy k=4')\n",
    "plt.suptitle(\"Figure 16: Energy per unit area vs Velocity\")\n",
    "plt.legend()\n",
    "plt.savefig('imgs/energy_velocity.png')\n",
    "plt.show()"
   ]
  },
  {
   "cell_type": "markdown",
   "metadata": {},
   "source": [
    "<font size=\"6\" color='red'>Question 3</font>"
   ]
  },
  {
   "cell_type": "markdown",
   "metadata": {},
   "source": [
    "<font size=\"5\" color='blue'>Energy Cummulative</font>"
   ]
  },
  {
   "cell_type": "code",
   "execution_count": 58,
   "metadata": {},
   "outputs": [
    {
     "data": {
      "text/html": [
       "<div>\n",
       "<style scoped>\n",
       "    .dataframe tbody tr th:only-of-type {\n",
       "        vertical-align: middle;\n",
       "    }\n",
       "\n",
       "    .dataframe tbody tr th {\n",
       "        vertical-align: top;\n",
       "    }\n",
       "\n",
       "    .dataframe thead th {\n",
       "        text-align: right;\n",
       "    }\n",
       "</style>\n",
       "<table border=\"1\" class=\"dataframe\">\n",
       "  <thead>\n",
       "    <tr style=\"text-align: right;\">\n",
       "      <th></th>\n",
       "      <th>hours k=2</th>\n",
       "      <th>hours k=4</th>\n",
       "      <th>power</th>\n",
       "      <th>energy_k2</th>\n",
       "      <th>energy_k4</th>\n",
       "      <th>energy_k2_cumsum</th>\n",
       "      <th>energy_k4_cumsum</th>\n",
       "    </tr>\n",
       "    <tr>\n",
       "      <th>V0 m/s</th>\n",
       "      <th></th>\n",
       "      <th></th>\n",
       "      <th></th>\n",
       "      <th></th>\n",
       "      <th></th>\n",
       "      <th></th>\n",
       "      <th></th>\n",
       "    </tr>\n",
       "  </thead>\n",
       "  <tbody>\n",
       "    <tr>\n",
       "      <th>2</th>\n",
       "      <td>173</td>\n",
       "      <td>0</td>\n",
       "      <td>0.0048</td>\n",
       "      <td>0.8304</td>\n",
       "      <td>0.0000</td>\n",
       "      <td>0.8304</td>\n",
       "      <td>0.0000</td>\n",
       "    </tr>\n",
       "    <tr>\n",
       "      <th>3</th>\n",
       "      <td>318</td>\n",
       "      <td>36</td>\n",
       "      <td>0.0162</td>\n",
       "      <td>5.1516</td>\n",
       "      <td>0.5832</td>\n",
       "      <td>5.9820</td>\n",
       "      <td>0.5832</td>\n",
       "    </tr>\n",
       "    <tr>\n",
       "      <th>4</th>\n",
       "      <td>451</td>\n",
       "      <td>131</td>\n",
       "      <td>0.0384</td>\n",
       "      <td>17.3184</td>\n",
       "      <td>5.0304</td>\n",
       "      <td>23.3004</td>\n",
       "      <td>5.6136</td>\n",
       "    </tr>\n",
       "    <tr>\n",
       "      <th>5</th>\n",
       "      <td>556</td>\n",
       "      <td>291</td>\n",
       "      <td>0.0750</td>\n",
       "      <td>41.7000</td>\n",
       "      <td>21.8250</td>\n",
       "      <td>65.0004</td>\n",
       "      <td>27.4386</td>\n",
       "    </tr>\n",
       "    <tr>\n",
       "      <th>6</th>\n",
       "      <td>618</td>\n",
       "      <td>524</td>\n",
       "      <td>0.1296</td>\n",
       "      <td>80.0928</td>\n",
       "      <td>67.9104</td>\n",
       "      <td>145.0932</td>\n",
       "      <td>95.3490</td>\n",
       "    </tr>\n",
       "  </tbody>\n",
       "</table>\n",
       "</div>"
      ],
      "text/plain": [
       "        hours k=2  hours k=4   power  energy_k2  energy_k4  energy_k2_cumsum  \\\n",
       "V0 m/s                                                                         \n",
       "2             173          0  0.0048     0.8304     0.0000            0.8304   \n",
       "3             318         36  0.0162     5.1516     0.5832            5.9820   \n",
       "4             451        131  0.0384    17.3184     5.0304           23.3004   \n",
       "5             556        291  0.0750    41.7000    21.8250           65.0004   \n",
       "6             618        524  0.1296    80.0928    67.9104          145.0932   \n",
       "\n",
       "        energy_k4_cumsum  \n",
       "V0 m/s                    \n",
       "2                 0.0000  \n",
       "3                 0.5832  \n",
       "4                 5.6136  \n",
       "5                27.4386  \n",
       "6                95.3490  "
      ]
     },
     "execution_count": 58,
     "metadata": {},
     "output_type": "execute_result"
    }
   ],
   "source": [
    "prod['energy_k2_cumsum'] = prod['energy_k2'].cumsum()\n",
    "prod['energy_k4_cumsum'] = prod['energy_k4'].cumsum()\n",
    "prod.head()"
   ]
  },
  {
   "cell_type": "code",
   "execution_count": 59,
   "metadata": {},
   "outputs": [
    {
     "data": {
      "image/png": "[encoded data removed]",
      "text/plain": [
       "<Figure size 432x288 with 1 Axes>"
      ]
     },
     "metadata": {
      "needs_background": "light"
     },
     "output_type": "display_data"
    }
   ],
   "source": [
    "plt.figure()\n",
    "plt.plot(prod['energy_k2_cumsum'], label='Energy accumulated k=2')\n",
    "plt.plot(prod['energy_k4_cumsum'], label='Energy accumulated k=4')\n",
    "plt.suptitle(\"Figure 17: Energy accumulated per unit area vs Velocity\")\n",
    "plt.legend()\n",
    "plt.savefig('imgs/energy_accumulated_velocity.png')\n",
    "plt.show()"
   ]
  },
  {
   "cell_type": "markdown",
   "metadata": {},
   "source": [
    "<font size=\"6\" color='red'>Question 4</font>"
   ]
  },
  {
   "cell_type": "markdown",
   "metadata": {},
   "source": [
    "<font size=\"5\" color='blue'>Ep</font>"
   ]
  },
  {
   "cell_type": "code",
   "execution_count": 60,
   "metadata": {},
   "outputs": [],
   "source": [
    "cp = 1"
   ]
  },
  {
   "cell_type": "code",
   "execution_count": 61,
   "metadata": {},
   "outputs": [],
   "source": [
    "def ep(k):\n",
    "    d={}\n",
    "    d[\"ep_k{0}\".format(k)] = []\n",
    "    for i in range(len(prod)):\n",
    "                       d[\"ep_k{0}\".format(k)].append(prod['energy_k{0}_cumsum'.format(k)].tolist()[i]+prod['power'].tolist()[i]*(prod['hours k={0}'.format(k)][(i+1):].sum()))\n",
    "    return d[\"ep_k{0}\".format(k)]"
   ]
  },
  {
   "cell_type": "code",
   "execution_count": 62,
   "metadata": {},
   "outputs": [
    {
     "data": {
      "text/html": [
       "<div>\n",
       "<style scoped>\n",
       "    .dataframe tbody tr th:only-of-type {\n",
       "        vertical-align: middle;\n",
       "    }\n",
       "\n",
       "    .dataframe tbody tr th {\n",
       "        vertical-align: top;\n",
       "    }\n",
       "\n",
       "    .dataframe thead th {\n",
       "        text-align: right;\n",
       "    }\n",
       "</style>\n",
       "<table border=\"1\" class=\"dataframe\">\n",
       "  <thead>\n",
       "    <tr style=\"text-align: right;\">\n",
       "      <th></th>\n",
       "      <th>hours k=2</th>\n",
       "      <th>hours k=4</th>\n",
       "      <th>power</th>\n",
       "      <th>energy_k2</th>\n",
       "      <th>energy_k4</th>\n",
       "      <th>energy_k2_cumsum</th>\n",
       "      <th>energy_k4_cumsum</th>\n",
       "      <th>ep_k2</th>\n",
       "      <th>ep_k2_%</th>\n",
       "      <th>ep_k4</th>\n",
       "      <th>ep_k4_%</th>\n",
       "    </tr>\n",
       "    <tr>\n",
       "      <th>V0 m/s</th>\n",
       "      <th></th>\n",
       "      <th></th>\n",
       "      <th></th>\n",
       "      <th></th>\n",
       "      <th></th>\n",
       "      <th></th>\n",
       "      <th></th>\n",
       "      <th></th>\n",
       "      <th></th>\n",
       "      <th></th>\n",
       "      <th></th>\n",
       "    </tr>\n",
       "  </thead>\n",
       "  <tbody>\n",
       "    <tr>\n",
       "      <th>2</th>\n",
       "      <td>173</td>\n",
       "      <td>0</td>\n",
       "      <td>0.0048</td>\n",
       "      <td>0.8304</td>\n",
       "      <td>0.0000</td>\n",
       "      <td>0.8304</td>\n",
       "      <td>0.0000</td>\n",
       "      <td>33.6240</td>\n",
       "      <td>0.615740</td>\n",
       "      <td>33.6192</td>\n",
       "      <td>0.921862</td>\n",
       "    </tr>\n",
       "    <tr>\n",
       "      <th>3</th>\n",
       "      <td>318</td>\n",
       "      <td>36</td>\n",
       "      <td>0.0162</td>\n",
       "      <td>5.1516</td>\n",
       "      <td>0.5832</td>\n",
       "      <td>5.9820</td>\n",
       "      <td>0.5832</td>\n",
       "      <td>111.5088</td>\n",
       "      <td>2.042007</td>\n",
       "      <td>113.4648</td>\n",
       "      <td>3.111284</td>\n",
       "    </tr>\n",
       "    <tr>\n",
       "      <th>4</th>\n",
       "      <td>451</td>\n",
       "      <td>131</td>\n",
       "      <td>0.0384</td>\n",
       "      <td>17.3184</td>\n",
       "      <td>5.0304</td>\n",
       "      <td>23.3004</td>\n",
       "      <td>5.6136</td>\n",
       "      <td>256.1196</td>\n",
       "      <td>4.690195</td>\n",
       "      <td>268.1544</td>\n",
       "      <td>7.352982</td>\n",
       "    </tr>\n",
       "    <tr>\n",
       "      <th>5</th>\n",
       "      <td>556</td>\n",
       "      <td>291</td>\n",
       "      <td>0.0750</td>\n",
       "      <td>41.7000</td>\n",
       "      <td>21.8250</td>\n",
       "      <td>65.0004</td>\n",
       "      <td>27.4386</td>\n",
       "      <td>478.0254</td>\n",
       "      <td>8.753849</td>\n",
       "      <td>518.3886</td>\n",
       "      <td>14.214579</td>\n",
       "    </tr>\n",
       "    <tr>\n",
       "      <th>6</th>\n",
       "      <td>618</td>\n",
       "      <td>524</td>\n",
       "      <td>0.1296</td>\n",
       "      <td>80.0928</td>\n",
       "      <td>67.9104</td>\n",
       "      <td>145.0932</td>\n",
       "      <td>95.3490</td>\n",
       "      <td>778.7076</td>\n",
       "      <td>14.260098</td>\n",
       "      <td>875.8002</td>\n",
       "      <td>24.015055</td>\n",
       "    </tr>\n",
       "  </tbody>\n",
       "</table>\n",
       "</div>"
      ],
      "text/plain": [
       "        hours k=2  hours k=4   power  energy_k2  energy_k4  energy_k2_cumsum  \\\n",
       "V0 m/s                                                                         \n",
       "2             173          0  0.0048     0.8304     0.0000            0.8304   \n",
       "3             318         36  0.0162     5.1516     0.5832            5.9820   \n",
       "4             451        131  0.0384    17.3184     5.0304           23.3004   \n",
       "5             556        291  0.0750    41.7000    21.8250           65.0004   \n",
       "6             618        524  0.1296    80.0928    67.9104          145.0932   \n",
       "\n",
       "        energy_k4_cumsum     ep_k2    ep_k2_%     ep_k4    ep_k4_%  \n",
       "V0 m/s                                                              \n",
       "2                 0.0000   33.6240   0.615740   33.6192   0.921862  \n",
       "3                 0.5832  111.5088   2.042007  113.4648   3.111284  \n",
       "4                 5.6136  256.1196   4.690195  268.1544   7.352982  \n",
       "5                27.4386  478.0254   8.753849  518.3886  14.214579  \n",
       "6                95.3490  778.7076  14.260098  875.8002  24.015055  "
      ]
     },
     "execution_count": 62,
     "metadata": {},
     "output_type": "execute_result"
    }
   ],
   "source": [
    "prod['ep_k2'] = ep(2)\n",
    "prod['ep_k2_%'] = ep(2)/max(ep(2))*100\n",
    "prod['ep_k4'] = ep(4)\n",
    "prod['ep_k4_%'] = ep(4)/max(ep(4))*100\n",
    "prod.head()"
   ]
  },
  {
   "cell_type": "code",
   "execution_count": 63,
   "metadata": {},
   "outputs": [
    {
     "data": {
      "image/png": "[encoded data removed]",
      "text/plain": [
       "<Figure size 432x288 with 1 Axes>"
      ]
     },
     "metadata": {
      "needs_background": "light"
     },
     "output_type": "display_data"
    }
   ],
   "source": [
    "plt.figure()\n",
    "plt.plot(prod['ep_k2'], label='Energy production k=2')\n",
    "plt.plot(prod['ep_k4'], label='Energy production k=4')\n",
    "plt.suptitle(\"Figure 18: Energy production accumulated Velocity above Vn\")\n",
    "plt.legend()\n",
    "plt.savefig('imgs/energy_production.png')\n",
    "plt.show()"
   ]
  },
  {
   "cell_type": "code",
   "execution_count": 64,
   "metadata": {},
   "outputs": [
    {
     "data": {
      "image/png": "[encoded data removed]",
      "text/plain": [
       "<Figure size 432x288 with 1 Axes>"
      ]
     },
     "metadata": {
      "needs_background": "light"
     },
     "output_type": "display_data"
    }
   ],
   "source": [
    "plt.figure()\n",
    "plt.plot(prod['ep_k2_%'], label='Energy accumulated(%) k=2')\n",
    "plt.plot(prod['ep_k4_%'], label='Energy accumulated(%) k=4')\n",
    "plt.suptitle(\"Figure 19: Energy production accumulated accumulated(%) \")\n",
    "plt.legend()\n",
    "plt.savefig('imgs/energy_production_percetnage.png')\n",
    "plt.show()"
   ]
  },
  {
   "cell_type": "markdown",
   "metadata": {},
   "source": [
    "<font size=\"6\" color='red'>Question 5</font>"
   ]
  },
  {
   "cell_type": "markdown",
   "metadata": {},
   "source": [
    "<font size=\"5\" color='blue'>Energy 24/7</font>"
   ]
  },
  {
   "cell_type": "code",
   "execution_count": 65,
   "metadata": {},
   "outputs": [
    {
     "data": {
      "text/html": [
       "<div>\n",
       "<style scoped>\n",
       "    .dataframe tbody tr th:only-of-type {\n",
       "        vertical-align: middle;\n",
       "    }\n",
       "\n",
       "    .dataframe tbody tr th {\n",
       "        vertical-align: top;\n",
       "    }\n",
       "\n",
       "    .dataframe thead th {\n",
       "        text-align: right;\n",
       "    }\n",
       "</style>\n",
       "<table border=\"1\" class=\"dataframe\">\n",
       "  <thead>\n",
       "    <tr style=\"text-align: right;\">\n",
       "      <th></th>\n",
       "      <th>hours k=2</th>\n",
       "      <th>hours k=4</th>\n",
       "      <th>power</th>\n",
       "      <th>energy_k2</th>\n",
       "      <th>energy_k4</th>\n",
       "      <th>energy_k2_cumsum</th>\n",
       "      <th>energy_k4_cumsum</th>\n",
       "      <th>ep_k2</th>\n",
       "      <th>ep_k2_%</th>\n",
       "      <th>ep_k4</th>\n",
       "      <th>ep_k4_%</th>\n",
       "      <th>E_24/7</th>\n",
       "    </tr>\n",
       "    <tr>\n",
       "      <th>V0 m/s</th>\n",
       "      <th></th>\n",
       "      <th></th>\n",
       "      <th></th>\n",
       "      <th></th>\n",
       "      <th></th>\n",
       "      <th></th>\n",
       "      <th></th>\n",
       "      <th></th>\n",
       "      <th></th>\n",
       "      <th></th>\n",
       "      <th></th>\n",
       "      <th></th>\n",
       "    </tr>\n",
       "  </thead>\n",
       "  <tbody>\n",
       "    <tr>\n",
       "      <th>2</th>\n",
       "      <td>173</td>\n",
       "      <td>0</td>\n",
       "      <td>0.0048</td>\n",
       "      <td>0.8304</td>\n",
       "      <td>0.0000</td>\n",
       "      <td>0.8304</td>\n",
       "      <td>0.0000</td>\n",
       "      <td>33.6240</td>\n",
       "      <td>0.615740</td>\n",
       "      <td>33.6192</td>\n",
       "      <td>0.921862</td>\n",
       "      <td>42.048</td>\n",
       "    </tr>\n",
       "    <tr>\n",
       "      <th>3</th>\n",
       "      <td>318</td>\n",
       "      <td>36</td>\n",
       "      <td>0.0162</td>\n",
       "      <td>5.1516</td>\n",
       "      <td>0.5832</td>\n",
       "      <td>5.9820</td>\n",
       "      <td>0.5832</td>\n",
       "      <td>111.5088</td>\n",
       "      <td>2.042007</td>\n",
       "      <td>113.4648</td>\n",
       "      <td>3.111284</td>\n",
       "      <td>141.912</td>\n",
       "    </tr>\n",
       "    <tr>\n",
       "      <th>4</th>\n",
       "      <td>451</td>\n",
       "      <td>131</td>\n",
       "      <td>0.0384</td>\n",
       "      <td>17.3184</td>\n",
       "      <td>5.0304</td>\n",
       "      <td>23.3004</td>\n",
       "      <td>5.6136</td>\n",
       "      <td>256.1196</td>\n",
       "      <td>4.690195</td>\n",
       "      <td>268.1544</td>\n",
       "      <td>7.352982</td>\n",
       "      <td>336.384</td>\n",
       "    </tr>\n",
       "    <tr>\n",
       "      <th>5</th>\n",
       "      <td>556</td>\n",
       "      <td>291</td>\n",
       "      <td>0.0750</td>\n",
       "      <td>41.7000</td>\n",
       "      <td>21.8250</td>\n",
       "      <td>65.0004</td>\n",
       "      <td>27.4386</td>\n",
       "      <td>478.0254</td>\n",
       "      <td>8.753849</td>\n",
       "      <td>518.3886</td>\n",
       "      <td>14.214579</td>\n",
       "      <td>657.000</td>\n",
       "    </tr>\n",
       "    <tr>\n",
       "      <th>6</th>\n",
       "      <td>618</td>\n",
       "      <td>524</td>\n",
       "      <td>0.1296</td>\n",
       "      <td>80.0928</td>\n",
       "      <td>67.9104</td>\n",
       "      <td>145.0932</td>\n",
       "      <td>95.3490</td>\n",
       "      <td>778.7076</td>\n",
       "      <td>14.260098</td>\n",
       "      <td>875.8002</td>\n",
       "      <td>24.015055</td>\n",
       "      <td>1135.296</td>\n",
       "    </tr>\n",
       "  </tbody>\n",
       "</table>\n",
       "</div>"
      ],
      "text/plain": [
       "        hours k=2  hours k=4   power  energy_k2  energy_k4  energy_k2_cumsum  \\\n",
       "V0 m/s                                                                         \n",
       "2             173          0  0.0048     0.8304     0.0000            0.8304   \n",
       "3             318         36  0.0162     5.1516     0.5832            5.9820   \n",
       "4             451        131  0.0384    17.3184     5.0304           23.3004   \n",
       "5             556        291  0.0750    41.7000    21.8250           65.0004   \n",
       "6             618        524  0.1296    80.0928    67.9104          145.0932   \n",
       "\n",
       "        energy_k4_cumsum     ep_k2    ep_k2_%     ep_k4    ep_k4_%    E_24/7  \n",
       "V0 m/s                                                                        \n",
       "2                 0.0000   33.6240   0.615740   33.6192   0.921862    42.048  \n",
       "3                 0.5832  111.5088   2.042007  113.4648   3.111284   141.912  \n",
       "4                 5.6136  256.1196   4.690195  268.1544   7.352982   336.384  \n",
       "5                27.4386  478.0254   8.753849  518.3886  14.214579   657.000  \n",
       "6                95.3490  778.7076  14.260098  875.8002  24.015055  1135.296  "
      ]
     },
     "execution_count": 65,
     "metadata": {},
     "output_type": "execute_result"
    }
   ],
   "source": [
    "prod['E_24/7'] = prod['power']*(24*365)\n",
    "prod.head()"
   ]
  },
  {
   "cell_type": "code",
   "execution_count": 66,
   "metadata": {},
   "outputs": [
    {
     "data": {
      "text/html": [
       "<div>\n",
       "<style scoped>\n",
       "    .dataframe tbody tr th:only-of-type {\n",
       "        vertical-align: middle;\n",
       "    }\n",
       "\n",
       "    .dataframe tbody tr th {\n",
       "        vertical-align: top;\n",
       "    }\n",
       "\n",
       "    .dataframe thead th {\n",
       "        text-align: right;\n",
       "    }\n",
       "</style>\n",
       "<table border=\"1\" class=\"dataframe\">\n",
       "  <thead>\n",
       "    <tr style=\"text-align: right;\">\n",
       "      <th></th>\n",
       "      <th>hours k=2</th>\n",
       "      <th>hours k=4</th>\n",
       "      <th>power</th>\n",
       "      <th>energy_k2</th>\n",
       "      <th>energy_k4</th>\n",
       "      <th>energy_k2_cumsum</th>\n",
       "      <th>energy_k4_cumsum</th>\n",
       "      <th>ep_k2</th>\n",
       "      <th>ep_k2_%</th>\n",
       "      <th>ep_k4</th>\n",
       "      <th>ep_k4_%</th>\n",
       "      <th>E_24/7</th>\n",
       "      <th>LF_k2</th>\n",
       "      <th>LF_k4</th>\n",
       "    </tr>\n",
       "    <tr>\n",
       "      <th>V0 m/s</th>\n",
       "      <th></th>\n",
       "      <th></th>\n",
       "      <th></th>\n",
       "      <th></th>\n",
       "      <th></th>\n",
       "      <th></th>\n",
       "      <th></th>\n",
       "      <th></th>\n",
       "      <th></th>\n",
       "      <th></th>\n",
       "      <th></th>\n",
       "      <th></th>\n",
       "      <th></th>\n",
       "      <th></th>\n",
       "    </tr>\n",
       "  </thead>\n",
       "  <tbody>\n",
       "    <tr>\n",
       "      <th>2</th>\n",
       "      <td>173</td>\n",
       "      <td>0</td>\n",
       "      <td>0.0048</td>\n",
       "      <td>0.8304</td>\n",
       "      <td>0.0000</td>\n",
       "      <td>0.8304</td>\n",
       "      <td>0.0000</td>\n",
       "      <td>33.6240</td>\n",
       "      <td>0.615740</td>\n",
       "      <td>33.6192</td>\n",
       "      <td>0.921862</td>\n",
       "      <td>42.048</td>\n",
       "      <td>0.799658</td>\n",
       "      <td>0.799543</td>\n",
       "    </tr>\n",
       "    <tr>\n",
       "      <th>3</th>\n",
       "      <td>318</td>\n",
       "      <td>36</td>\n",
       "      <td>0.0162</td>\n",
       "      <td>5.1516</td>\n",
       "      <td>0.5832</td>\n",
       "      <td>5.9820</td>\n",
       "      <td>0.5832</td>\n",
       "      <td>111.5088</td>\n",
       "      <td>2.042007</td>\n",
       "      <td>113.4648</td>\n",
       "      <td>3.111284</td>\n",
       "      <td>141.912</td>\n",
       "      <td>0.785760</td>\n",
       "      <td>0.799543</td>\n",
       "    </tr>\n",
       "    <tr>\n",
       "      <th>4</th>\n",
       "      <td>451</td>\n",
       "      <td>131</td>\n",
       "      <td>0.0384</td>\n",
       "      <td>17.3184</td>\n",
       "      <td>5.0304</td>\n",
       "      <td>23.3004</td>\n",
       "      <td>5.6136</td>\n",
       "      <td>256.1196</td>\n",
       "      <td>4.690195</td>\n",
       "      <td>268.1544</td>\n",
       "      <td>7.352982</td>\n",
       "      <td>336.384</td>\n",
       "      <td>0.761391</td>\n",
       "      <td>0.797168</td>\n",
       "    </tr>\n",
       "    <tr>\n",
       "      <th>5</th>\n",
       "      <td>556</td>\n",
       "      <td>291</td>\n",
       "      <td>0.0750</td>\n",
       "      <td>41.7000</td>\n",
       "      <td>21.8250</td>\n",
       "      <td>65.0004</td>\n",
       "      <td>27.4386</td>\n",
       "      <td>478.0254</td>\n",
       "      <td>8.753849</td>\n",
       "      <td>518.3886</td>\n",
       "      <td>14.214579</td>\n",
       "      <td>657.000</td>\n",
       "      <td>0.727588</td>\n",
       "      <td>0.789024</td>\n",
       "    </tr>\n",
       "    <tr>\n",
       "      <th>6</th>\n",
       "      <td>618</td>\n",
       "      <td>524</td>\n",
       "      <td>0.1296</td>\n",
       "      <td>80.0928</td>\n",
       "      <td>67.9104</td>\n",
       "      <td>145.0932</td>\n",
       "      <td>95.3490</td>\n",
       "      <td>778.7076</td>\n",
       "      <td>14.260098</td>\n",
       "      <td>875.8002</td>\n",
       "      <td>24.015055</td>\n",
       "      <td>1135.296</td>\n",
       "      <td>0.685907</td>\n",
       "      <td>0.771429</td>\n",
       "    </tr>\n",
       "  </tbody>\n",
       "</table>\n",
       "</div>"
      ],
      "text/plain": [
       "        hours k=2  hours k=4   power  energy_k2  energy_k4  energy_k2_cumsum  \\\n",
       "V0 m/s                                                                         \n",
       "2             173          0  0.0048     0.8304     0.0000            0.8304   \n",
       "3             318         36  0.0162     5.1516     0.5832            5.9820   \n",
       "4             451        131  0.0384    17.3184     5.0304           23.3004   \n",
       "5             556        291  0.0750    41.7000    21.8250           65.0004   \n",
       "6             618        524  0.1296    80.0928    67.9104          145.0932   \n",
       "\n",
       "        energy_k4_cumsum     ep_k2    ep_k2_%     ep_k4    ep_k4_%    E_24/7  \\\n",
       "V0 m/s                                                                         \n",
       "2                 0.0000   33.6240   0.615740   33.6192   0.921862    42.048   \n",
       "3                 0.5832  111.5088   2.042007  113.4648   3.111284   141.912   \n",
       "4                 5.6136  256.1196   4.690195  268.1544   7.352982   336.384   \n",
       "5                27.4386  478.0254   8.753849  518.3886  14.214579   657.000   \n",
       "6                95.3490  778.7076  14.260098  875.8002  24.015055  1135.296   \n",
       "\n",
       "           LF_k2     LF_k4  \n",
       "V0 m/s                      \n",
       "2       0.799658  0.799543  \n",
       "3       0.785760  0.799543  \n",
       "4       0.761391  0.797168  \n",
       "5       0.727588  0.789024  \n",
       "6       0.685907  0.771429  "
      ]
     },
     "execution_count": 66,
     "metadata": {},
     "output_type": "execute_result"
    }
   ],
   "source": [
    "prod['LF_k2'] = prod['ep_k2']/prod['E_24/7']\n",
    "prod['LF_k4'] = prod['ep_k4']/prod['E_24/7']\n",
    "prod.head()"
   ]
  },
  {
   "cell_type": "code",
   "execution_count": 67,
   "metadata": {},
   "outputs": [
    {
     "data": {
      "image/png": "[encoded data removed]",
      "text/plain": [
       "<Figure size 432x288 with 1 Axes>"
      ]
     },
     "metadata": {
      "needs_background": "light"
     },
     "output_type": "display_data"
    }
   ],
   "source": [
    "plt.figure()\n",
    "plt.plot(prod['E_24/7'], label='Energy')\n",
    "plt.suptitle(\"Figure 20: E24Pn\")\n",
    "plt.legend()\n",
    "plt.savefig('imgs/e24_pn.png')\n",
    "plt.show()"
   ]
  },
  {
   "cell_type": "code",
   "execution_count": 68,
   "metadata": {},
   "outputs": [
    {
     "data": {
      "image/png": "[encoded data removed]",
      "text/plain": [
       "<Figure size 432x288 with 1 Axes>"
      ]
     },
     "metadata": {
      "needs_background": "light"
     },
     "output_type": "display_data"
    }
   ],
   "source": [
    "plt.figure()\n",
    "plt.plot(prod['LF_k2'], label='LF k=2')\n",
    "plt.plot(prod['LF_k4'], label='LF k=4')\n",
    "plt.suptitle(\"Figure 21: Load Factor\")\n",
    "plt.legend()\n",
    "plt.savefig('imgs/load_factor.png')\n",
    "plt.show()"
   ]
  },
  {
   "cell_type": "markdown",
   "metadata": {},
   "source": [
    "<font size=\"6\" color='red'>Question 6</font>"
   ]
  },
  {
   "cell_type": "code",
   "execution_count": 69,
   "metadata": {},
   "outputs": [],
   "source": [
    "vn_k2 = 16\n",
    "vn_k4 = 12"
   ]
  },
  {
   "cell_type": "markdown",
   "metadata": {},
   "source": [
    "<font size=\"6\" color='red'>Question 7</font>"
   ]
  },
  {
   "cell_type": "code",
   "execution_count": 71,
   "metadata": {},
   "outputs": [
    {
     "data": {
      "text/html": [
       "<div>\n",
       "<style scoped>\n",
       "    .dataframe tbody tr th:only-of-type {\n",
       "        vertical-align: middle;\n",
       "    }\n",
       "\n",
       "    .dataframe tbody tr th {\n",
       "        vertical-align: top;\n",
       "    }\n",
       "\n",
       "    .dataframe thead th {\n",
       "        text-align: right;\n",
       "    }\n",
       "</style>\n",
       "<table border=\"1\" class=\"dataframe\">\n",
       "  <thead>\n",
       "    <tr style=\"text-align: right;\">\n",
       "      <th>landa r</th>\n",
       "      <th>1</th>\n",
       "      <th>2</th>\n",
       "      <th>3</th>\n",
       "      <th>4</th>\n",
       "      <th>5</th>\n",
       "      <th>6</th>\n",
       "      <th>7</th>\n",
       "      <th>8</th>\n",
       "      <th>9</th>\n",
       "      <th>10</th>\n",
       "      <th>11</th>\n",
       "      <th>12</th>\n",
       "    </tr>\n",
       "  </thead>\n",
       "  <tbody>\n",
       "    <tr>\n",
       "      <th>CP</th>\n",
       "      <td>0.0</td>\n",
       "      <td>0.004</td>\n",
       "      <td>0.056</td>\n",
       "      <td>0.174</td>\n",
       "      <td>0.304</td>\n",
       "      <td>0.4</td>\n",
       "      <td>0.44</td>\n",
       "      <td>0.424</td>\n",
       "      <td>0.36</td>\n",
       "      <td>0.258</td>\n",
       "      <td>0.127</td>\n",
       "      <td>-0.024</td>\n",
       "    </tr>\n",
       "  </tbody>\n",
       "</table>\n",
       "</div>"
      ],
      "text/plain": [
       "landa r   1      2      3      4      5    6     7      8     9      10  \\\n",
       "CP       0.0  0.004  0.056  0.174  0.304  0.4  0.44  0.424  0.36  0.258   \n",
       "\n",
       "landa r     11     12  \n",
       "CP       0.127 -0.024  "
      ]
     },
     "execution_count": 71,
     "metadata": {},
     "output_type": "execute_result"
    }
   ],
   "source": [
    "landa_cp = pd.read_csv('data/landa_cp.csv', index_col=0)\n",
    "landa_cp.T"
   ]
  },
  {
   "cell_type": "code",
   "execution_count": 72,
   "metadata": {},
   "outputs": [
    {
     "data": {
      "text/html": [
       "<div>\n",
       "<style scoped>\n",
       "    .dataframe tbody tr th:only-of-type {\n",
       "        vertical-align: middle;\n",
       "    }\n",
       "\n",
       "    .dataframe tbody tr th {\n",
       "        vertical-align: top;\n",
       "    }\n",
       "\n",
       "    .dataframe thead th {\n",
       "        text-align: right;\n",
       "    }\n",
       "</style>\n",
       "<table border=\"1\" class=\"dataframe\">\n",
       "  <thead>\n",
       "    <tr style=\"text-align: right;\">\n",
       "      <th></th>\n",
       "      <th>k</th>\n",
       "      <th>Radius</th>\n",
       "      <th>Power</th>\n",
       "      <th>Omega(r/s)</th>\n",
       "      <th>Omega(rpm)</th>\n",
       "    </tr>\n",
       "  </thead>\n",
       "  <tbody>\n",
       "    <tr>\n",
       "      <th>0</th>\n",
       "      <td>hours k=2</td>\n",
       "      <td>41.765841</td>\n",
       "      <td>5.925926</td>\n",
       "      <td>2.681617</td>\n",
       "      <td>25.607558</td>\n",
       "    </tr>\n",
       "    <tr>\n",
       "      <th>1</th>\n",
       "      <td>hours k=4</td>\n",
       "      <td>41.765841</td>\n",
       "      <td>2.500000</td>\n",
       "      <td>2.011213</td>\n",
       "      <td>19.205669</td>\n",
       "    </tr>\n",
       "  </tbody>\n",
       "</table>\n",
       "</div>"
      ],
      "text/plain": [
       "           k     Radius     Power  Omega(r/s)  Omega(rpm)\n",
       "0  hours k=2  41.765841  5.925926    2.681617   25.607558\n",
       "1  hours k=4  41.765841  2.500000    2.011213   19.205669"
      ]
     },
     "execution_count": 72,
     "metadata": {},
     "output_type": "execute_result"
    }
   ],
   "source": [
    "landa_r = 7\n",
    "\n",
    "cp_k4 = landa_cp.iloc[landa_r-1][0]\n",
    "power_k4 = 2.5\n",
    "radius_k4 = math.sqrt(2*power_k4*1000000/(1.2*math.pi*vn_k4**3*cp_k4))\n",
    "omega_rad_s_k4 = landa_r*vn_k4/radius_k4\n",
    "omega_rpm_k4 = omega_rad_s_k4/(2*math.pi/60)\n",
    "\n",
    "cp_k2 = landa_cp.iloc[landa_r-1][0]\n",
    "radius_k2 = radius_k4\n",
    "power_k2 = 0.5*1.2*radius_k2**2*math.pi*vn_k2**3*cp_k2/1000000\n",
    "omega_rad_s_k2 = landa_r*vn_k2/radius_k2\n",
    "omega_rpm_k2 = omega_rad_s_k2/(2*math.pi/60)\n",
    "\n",
    "df_rpm= pd.DataFrame(columns=['k','Radius','Power','Omega(r/s)', 'Omega(rpm)'])\n",
    "df_rpm.loc[df_rpm.shape[0]] = [\"hours k=2\", radius_k2, power_k2, omega_rad_s_k2, omega_rpm_k2]\n",
    "df_rpm.loc[df_rpm.shape[0]] = [\"hours k=4\", radius_k4, power_k4, omega_rad_s_k4, omega_rpm_k4]\n",
    "df_rpm"
   ]
  },
  {
   "cell_type": "markdown",
   "metadata": {},
   "source": [
    "<font size=\"6\" color='red'>Question 8</font>"
   ]
  },
  {
   "cell_type": "code",
   "execution_count": 73,
   "metadata": {},
   "outputs": [
    {
     "data": {
      "image/png": "[encoded data removed]",
      "text/plain": [
       "<Figure size 432x288 with 1 Axes>"
      ]
     },
     "metadata": {
      "needs_background": "light"
     },
     "output_type": "display_data"
    }
   ],
   "source": [
    "plt.figure()\n",
    "plt.plot(landa_cp, label='Cp')\n",
    "plt.suptitle(\"Figure 22: CP vs Landa\")\n",
    "plt.legend()\n",
    "plt.savefig('imgs/cp_landa.png')\n",
    "plt.show()"
   ]
  },
  {
   "cell_type": "markdown",
   "metadata": {},
   "source": [
    "<font size=\"6\" color='red'>Question 9</font>"
   ]
  },
  {
   "cell_type": "code",
   "execution_count": 74,
   "metadata": {},
   "outputs": [],
   "source": [
    "def omega_rpm(landa,velocity,radius):\n",
    "    return (landa*velocity/radius)/(2*math.pi/60)"
   ]
  },
  {
   "cell_type": "code",
   "execution_count": 75,
   "metadata": {},
   "outputs": [],
   "source": [
    "def velocity_calc(radius,velocity,cp):\n",
    "    return 0.5*1.2*radius**2*math.pi*velocity**3*cp/1000000"
   ]
  },
  {
   "cell_type": "code",
   "execution_count": 76,
   "metadata": {},
   "outputs": [],
   "source": [
    "def df_landa_velocities(vel):\n",
    "    d={}\n",
    "    d[\"df{0}\".format(vel)] = pd.DataFrame([landa_cp.index,landa_cp['CP']])    \n",
    "    d[\"df{0}\".format(vel)] = d[\"df{0}\".format(vel)].T\n",
    "    d[\"df{0}\".format(vel)].columns = ['landa','CP']\n",
    "    d[\"df{0}\".format(vel)].set_index('landa', inplace=True)\n",
    "    \n",
    "    #omega\n",
    "    d[\"omega_{0}\".format(vel)] = []\n",
    "    for i in d[\"df{0}\".format(vel)].index:\n",
    "         d[\"omega_{0}\".format(vel)].append(omega_rpm(i, vel, radius_k2))\n",
    "    d[\"df{0}\".format(vel)][\"omega_{0}\".format(vel)] = d[\"omega_{0}\".format(vel)]\n",
    "\n",
    "    #velocity\n",
    "    d[\"velocity_{0}\".format(vel)] = []\n",
    "    for i in d[\"df{0}\".format(vel)].index:\n",
    "         d[\"velocity_{0}\".format(vel)].append(velocity_calc(radius_k2, vel, float(d[\"df{0}\".format(vel)]['CP'][i])))\n",
    "    d[\"df{0}\".format(vel)][\"velocity_{0}\".format(vel)] = d[\"velocity_{0}\".format(vel)]\n",
    "    \n",
    "    return d[\"df{0}\".format(vel)]"
   ]
  },
  {
   "cell_type": "code",
   "execution_count": 77,
   "metadata": {},
   "outputs": [
    {
     "data": {
      "text/html": [
       "<div>\n",
       "<style scoped>\n",
       "    .dataframe tbody tr th:only-of-type {\n",
       "        vertical-align: middle;\n",
       "    }\n",
       "\n",
       "    .dataframe tbody tr th {\n",
       "        vertical-align: top;\n",
       "    }\n",
       "\n",
       "    .dataframe thead th {\n",
       "        text-align: right;\n",
       "    }\n",
       "</style>\n",
       "<table border=\"1\" class=\"dataframe\">\n",
       "  <thead>\n",
       "    <tr style=\"text-align: right;\">\n",
       "      <th>landa</th>\n",
       "      <th>1.0</th>\n",
       "      <th>2.0</th>\n",
       "      <th>3.0</th>\n",
       "      <th>4.0</th>\n",
       "      <th>5.0</th>\n",
       "      <th>6.0</th>\n",
       "      <th>7.0</th>\n",
       "      <th>8.0</th>\n",
       "      <th>9.0</th>\n",
       "      <th>10.0</th>\n",
       "      <th>11.0</th>\n",
       "      <th>12.0</th>\n",
       "    </tr>\n",
       "  </thead>\n",
       "  <tbody>\n",
       "    <tr>\n",
       "      <th>CP</th>\n",
       "      <td>0.000000</td>\n",
       "      <td>0.004000</td>\n",
       "      <td>0.056000</td>\n",
       "      <td>0.174000</td>\n",
       "      <td>0.304000</td>\n",
       "      <td>0.400000</td>\n",
       "      <td>0.440000</td>\n",
       "      <td>0.424000</td>\n",
       "      <td>0.360000</td>\n",
       "      <td>0.258000</td>\n",
       "      <td>0.127000</td>\n",
       "      <td>-0.024000</td>\n",
       "    </tr>\n",
       "    <tr>\n",
       "      <th>omega_4</th>\n",
       "      <td>0.914556</td>\n",
       "      <td>1.829111</td>\n",
       "      <td>2.743667</td>\n",
       "      <td>3.658223</td>\n",
       "      <td>4.572778</td>\n",
       "      <td>5.487334</td>\n",
       "      <td>6.401890</td>\n",
       "      <td>7.316445</td>\n",
       "      <td>8.231001</td>\n",
       "      <td>9.145557</td>\n",
       "      <td>10.060112</td>\n",
       "      <td>10.974668</td>\n",
       "    </tr>\n",
       "    <tr>\n",
       "      <th>velocity_4</th>\n",
       "      <td>0.000000</td>\n",
       "      <td>0.000842</td>\n",
       "      <td>0.011785</td>\n",
       "      <td>0.036616</td>\n",
       "      <td>0.063973</td>\n",
       "      <td>0.084175</td>\n",
       "      <td>0.092593</td>\n",
       "      <td>0.089226</td>\n",
       "      <td>0.075758</td>\n",
       "      <td>0.054293</td>\n",
       "      <td>0.026726</td>\n",
       "      <td>-0.005051</td>\n",
       "    </tr>\n",
       "  </tbody>\n",
       "</table>\n",
       "</div>"
      ],
      "text/plain": [
       "landa           1.0       2.0       3.0       4.0       5.0       6.0   \\\n",
       "CP          0.000000  0.004000  0.056000  0.174000  0.304000  0.400000   \n",
       "omega_4     0.914556  1.829111  2.743667  3.658223  4.572778  5.487334   \n",
       "velocity_4  0.000000  0.000842  0.011785  0.036616  0.063973  0.084175   \n",
       "\n",
       "landa           7.0       8.0       9.0       10.0       11.0       12.0  \n",
       "CP          0.440000  0.424000  0.360000  0.258000   0.127000  -0.024000  \n",
       "omega_4     6.401890  7.316445  8.231001  9.145557  10.060112  10.974668  \n",
       "velocity_4  0.092593  0.089226  0.075758  0.054293   0.026726  -0.005051  "
      ]
     },
     "execution_count": 77,
     "metadata": {},
     "output_type": "execute_result"
    }
   ],
   "source": [
    "df_landa_velocities(4).T"
   ]
  },
  {
   "cell_type": "code",
   "execution_count": 78,
   "metadata": {},
   "outputs": [
    {
     "data": {
      "image/png": "[encoded data removed]",
      "text/plain": [
       "<Figure size 432x288 with 1 Axes>"
      ]
     },
     "metadata": {
      "needs_background": "light"
     },
     "output_type": "display_data"
    }
   ],
   "source": [
    "velocities = [4,6,8,9,10,11]\n",
    "plt.figure()\n",
    "for i in velocities:\n",
    "    df_int = df_landa_velocities(i)\n",
    "    x = df_int['omega_{0}'.format(i)]\n",
    "    y = df_int['velocity_{0}'.format(i)]\n",
    "    plt.plot(x,y, label='velocity {0}'.format(i))\n",
    "plt.suptitle(\"Figure 23: Power vs Speed\")\n",
    "plt.legend()\n",
    "plt.savefig('imgs/power_speed.png')\n",
    "plt.show()"
   ]
  },
  {
   "cell_type": "markdown",
   "metadata": {},
   "source": [
    "<font size=\"6\" color='red'>Question 10</font>"
   ]
  },
  {
   "cell_type": "code",
   "execution_count": 79,
   "metadata": {},
   "outputs": [
    {
     "data": {
      "image/png": "[encoded data removed]",
      "text/plain": [
       "<Figure size 432x288 with 1 Axes>"
      ]
     },
     "metadata": {
      "needs_background": "light"
     },
     "output_type": "display_data"
    }
   ],
   "source": [
    "velocities = [4,6,8,9,10,11]\n",
    "indirect_coupling_index = []\n",
    "indirect_coupling_values = []\n",
    "direct_coupling = 0\n",
    "direct_coupling_index = 0\n",
    "plt.figure()\n",
    "for i in velocities:\n",
    "    df_int = df_landa_velocities(i)\n",
    "    df_int['velocity_{0}'.format(i)]\n",
    "    indirect_coupling_values.append(df_landa_velocities(i)['velocity_{0}'.format(i)].max())\n",
    "    indirect_coupling_index.append(df_landa_velocities(i)['omega_{0}'.format(i)][df_landa_velocities(i)['velocity_{0}'.format(i)].idxmax()])\n",
    "    if df_landa_velocities(i)['velocity_{0}'.format(i)].max() > direct_coupling:\n",
    "        direct_coupling = df_landa_velocities(i)['velocity_{0}'.format(i)].max()\n",
    "        direct_coupling_index = df_landa_velocities(i)['omega_{0}'.format(i)][df_landa_velocities(i)['velocity_{0}'.format(i)].idxmax()]\n",
    "    x = df_int['omega_{0}'.format(i)]\n",
    "    y = df_int['velocity_{0}'.format(i)]\n",
    "    plt.plot(x,y, label = '')\n",
    "plt.plot(indirect_coupling_index, indirect_coupling_values, label='Indirect coupling')\n",
    "plt.axvline(x=direct_coupling_index, label='Direct coupling')\n",
    "plt.suptitle(\"Figure 24: Direct vs Indirect coupling\")\n",
    "plt.legend()\n",
    "plt.savefig('imgs/couplings.png')\n",
    "plt.show()"
   ]
  },
  {
   "cell_type": "markdown",
   "metadata": {},
   "source": [
    "<font size=\"6\" color='red'>Question 12</font>"
   ]
  },
  {
   "cell_type": "code",
   "execution_count": 80,
   "metadata": {},
   "outputs": [],
   "source": [
    "def condition(x,y):\n",
    "    if(x>cut_in_speed and x<cut_out_speed):\n",
    "        return 1/2*density*math.pi*radius**2*(x if x<vn_k2 else vn_k2)**3*y*cp/10**6\n",
    "    else:\n",
    "        return 0"
   ]
  },
  {
   "cell_type": "code",
   "execution_count": 83,
   "metadata": {},
   "outputs": [
    {
     "data": {
      "text/html": [
       "<div>\n",
       "<style scoped>\n",
       "    .dataframe tbody tr th:only-of-type {\n",
       "        vertical-align: middle;\n",
       "    }\n",
       "\n",
       "    .dataframe tbody tr th {\n",
       "        vertical-align: top;\n",
       "    }\n",
       "\n",
       "    .dataframe thead th {\n",
       "        text-align: right;\n",
       "    }\n",
       "</style>\n",
       "<table border=\"1\" class=\"dataframe\">\n",
       "  <thead>\n",
       "    <tr style=\"text-align: right;\">\n",
       "      <th></th>\n",
       "      <th>hours k=2</th>\n",
       "      <th>hours k=4</th>\n",
       "      <th>Energy produced k=2</th>\n",
       "      <th>Energy produced k=4</th>\n",
       "    </tr>\n",
       "    <tr>\n",
       "      <th>V0 m/s</th>\n",
       "      <th></th>\n",
       "      <th></th>\n",
       "      <th></th>\n",
       "      <th></th>\n",
       "    </tr>\n",
       "  </thead>\n",
       "  <tbody>\n",
       "    <tr>\n",
       "      <th>2</th>\n",
       "      <td>173</td>\n",
       "      <td>0</td>\n",
       "      <td>0.000000</td>\n",
       "      <td>0.000000</td>\n",
       "    </tr>\n",
       "    <tr>\n",
       "      <th>3</th>\n",
       "      <td>318</td>\n",
       "      <td>36</td>\n",
       "      <td>0.000000</td>\n",
       "      <td>0.000000</td>\n",
       "    </tr>\n",
       "    <tr>\n",
       "      <th>4</th>\n",
       "      <td>451</td>\n",
       "      <td>131</td>\n",
       "      <td>0.000000</td>\n",
       "      <td>0.000000</td>\n",
       "    </tr>\n",
       "    <tr>\n",
       "      <th>5</th>\n",
       "      <td>556</td>\n",
       "      <td>291</td>\n",
       "      <td>265.283938</td>\n",
       "      <td>138.844651</td>\n",
       "    </tr>\n",
       "    <tr>\n",
       "      <th>6</th>\n",
       "      <td>618</td>\n",
       "      <td>524</td>\n",
       "      <td>509.528378</td>\n",
       "      <td>432.027298</td>\n",
       "    </tr>\n",
       "  </tbody>\n",
       "</table>\n",
       "</div>"
      ],
      "text/plain": [
       "        hours k=2  hours k=4  Energy produced k=2  Energy produced k=4\n",
       "V0 m/s                                                                \n",
       "2             173          0             0.000000             0.000000\n",
       "3             318         36             0.000000             0.000000\n",
       "4             451        131             0.000000             0.000000\n",
       "5             556        291           265.283938           138.844651\n",
       "6             618        524           509.528378           432.027298"
      ]
     },
     "execution_count": 83,
     "metadata": {},
     "output_type": "execute_result"
    }
   ],
   "source": [
    "density = 1.2\n",
    "cut_in_speed = 4.5\n",
    "cut_out_speed = 25\n",
    "\n",
    "prod_2 = pd.read_csv('data/part_2.csv', index_col=0)\n",
    "\n",
    "production_2_k2 = []\n",
    "for i in range(len(prod_2)):\n",
    "    production_2_k2.append(condition(prod_2.index[i],prod_2['hours k=2'].values[i]))\n",
    "prod_2['Energy produced k=2']=production_2_k2\n",
    "\n",
    "production_2_k4 = []\n",
    "for i in range(len(prod_2)):\n",
    "    production_2_k4.append(condition(prod_2.index[i],prod_2['hours k=4'].values[i]))\n",
    "prod_2['Energy produced k=4']=production_2_k4\n",
    "\n",
    "    \n",
    "prod_2.head()"
   ]
  },
  {
   "cell_type": "code",
   "execution_count": 84,
   "metadata": {},
   "outputs": [
    {
     "data": {
      "text/html": [
       "<div>\n",
       "<style scoped>\n",
       "    .dataframe tbody tr th:only-of-type {\n",
       "        vertical-align: middle;\n",
       "    }\n",
       "\n",
       "    .dataframe tbody tr th {\n",
       "        vertical-align: top;\n",
       "    }\n",
       "\n",
       "    .dataframe thead th {\n",
       "        text-align: right;\n",
       "    }\n",
       "</style>\n",
       "<table border=\"1\" class=\"dataframe\">\n",
       "  <thead>\n",
       "    <tr style=\"text-align: right;\">\n",
       "      <th></th>\n",
       "      <th>k</th>\n",
       "      <th>Available production (GW)</th>\n",
       "      <th>Real production(GW)</th>\n",
       "      <th>LF</th>\n",
       "    </tr>\n",
       "  </thead>\n",
       "  <tbody>\n",
       "    <tr>\n",
       "      <th>0</th>\n",
       "      <td>k=2</td>\n",
       "      <td>136.958883</td>\n",
       "      <td>30.218020</td>\n",
       "      <td>0.220636</td>\n",
       "    </tr>\n",
       "    <tr>\n",
       "      <th>1</th>\n",
       "      <td>k=4</td>\n",
       "      <td>57.779529</td>\n",
       "      <td>23.164735</td>\n",
       "      <td>0.400916</td>\n",
       "    </tr>\n",
       "  </tbody>\n",
       "</table>\n",
       "</div>"
      ],
      "text/plain": [
       "     k  Available production (GW)  Real production(GW)        LF\n",
       "0  k=2                 136.958883            30.218020  0.220636\n",
       "1  k=4                  57.779529            23.164735  0.400916"
      ]
     },
     "execution_count": 84,
     "metadata": {},
     "output_type": "execute_result"
    }
   ],
   "source": [
    "tot_prod_k2 = prod_2['Energy produced k=2'].sum()/10**3\n",
    "avai_prod_k2 = (1/2*density*math.pi*(radius**2)*(vn_k2**3)*cp*365*24)/(10**9)\n",
    "lf_k2 = tot_prod_k2/avai_prod_k2\n",
    "tot_prod_k4 = prod_2['Energy produced k=4'].sum()/10**3\n",
    "avai_prod_k4 = (1/2*density*math.pi*(radius**2)*(vn_k4**3)*cp*365*24)/(10**9)\n",
    "lf_k4 = tot_prod_k4/avai_prod_k4\n",
    "\n",
    "df_prod_lf = pd.DataFrame(columns=['k','Available production (GW)', 'Real production(GW)', 'LF'])\n",
    "df_prod_lf.loc[df_prod_lf.shape[0]] = ['k=2',avai_prod_k2, tot_prod_k2, lf_k2]\n",
    "df_prod_lf.loc[df_prod_lf.shape[0]] = ['k=4',avai_prod_k4, tot_prod_k4, lf_k4]\n",
    "df_prod_lf"
   ]
  },
  {
   "cell_type": "markdown",
   "metadata": {},
   "source": [
    "<font size=\"6\" color='red'>Question 13</font>"
   ]
  },
  {
   "cell_type": "code",
   "execution_count": 85,
   "metadata": {},
   "outputs": [
    {
     "data": {
      "text/html": [
       "<div>\n",
       "<style scoped>\n",
       "    .dataframe tbody tr th:only-of-type {\n",
       "        vertical-align: middle;\n",
       "    }\n",
       "\n",
       "    .dataframe tbody tr th {\n",
       "        vertical-align: top;\n",
       "    }\n",
       "\n",
       "    .dataframe thead th {\n",
       "        text-align: right;\n",
       "    }\n",
       "</style>\n",
       "<table border=\"1\" class=\"dataframe\">\n",
       "  <thead>\n",
       "    <tr style=\"text-align: right;\">\n",
       "      <th></th>\n",
       "      <th>k</th>\n",
       "      <th>Available production (GW)</th>\n",
       "      <th>Q4 production(GW)</th>\n",
       "      <th>LF</th>\n",
       "    </tr>\n",
       "  </thead>\n",
       "  <tbody>\n",
       "    <tr>\n",
       "      <th>0</th>\n",
       "      <td>k=2</td>\n",
       "      <td>136.958883</td>\n",
       "      <td>24.206228</td>\n",
       "      <td>0.400916</td>\n",
       "    </tr>\n",
       "    <tr>\n",
       "      <th>1</th>\n",
       "      <td>k=4</td>\n",
       "      <td>57.779529</td>\n",
       "      <td>19.414738</td>\n",
       "      <td>0.400916</td>\n",
       "    </tr>\n",
       "  </tbody>\n",
       "</table>\n",
       "</div>"
      ],
      "text/plain": [
       "     k  Available production (GW)  Q4 production(GW)        LF\n",
       "0  k=2                 136.958883          24.206228  0.400916\n",
       "1  k=4                  57.779529          19.414738  0.400916"
      ]
     },
     "execution_count": 85,
     "metadata": {},
     "output_type": "execute_result"
    }
   ],
   "source": [
    "q_prod_k2 = prod['energy_k2_cumsum'][prod['energy_k2_cumsum'].index==vn_k2].values[0]*math.pi*radius**2*cp/1000000\n",
    "lf_k2_q4 = tot_prod_k4/avai_prod_k4\n",
    "q_prod_k4 = prod['energy_k4_cumsum'][prod['energy_k4_cumsum'].index==vn_k4].values[0]*math.pi*radius**2*cp/1000000\n",
    "lf_k4_q4 = tot_prod_k4/avai_prod_k4\n",
    "df_prod_lf_q4 = pd.DataFrame(columns=['k','Available production (GW)', 'Q4 production(GW)', 'LF'])\n",
    "df_prod_lf_q4.loc[df_prod_lf_q4.shape[0]] = ['k=2',avai_prod_k2, q_prod_k2, lf_k2_q4]\n",
    "df_prod_lf_q4.loc[df_prod_lf_q4.shape[0]] = ['k=4',avai_prod_k4, q_prod_k4, lf_k4_q4]\n",
    "df_prod_lf_q4"
   ]
  },
  {
   "cell_type": "markdown",
   "metadata": {},
   "source": [
    "<font size=\"6\" color='red'>Question 14</font>"
   ]
  },
  {
   "cell_type": "code",
   "execution_count": 86,
   "metadata": {},
   "outputs": [
    {
     "data": {
      "text/plain": [
       "19.205668684182374"
      ]
     },
     "execution_count": 86,
     "metadata": {},
     "output_type": "execute_result"
    }
   ],
   "source": [
    "df_rpm['Omega(rpm)'][df_rpm['k']=='hours k=4'].values[0]"
   ]
  },
  {
   "cell_type": "code",
   "execution_count": 87,
   "metadata": {},
   "outputs": [
    {
     "data": {
      "text/html": [
       "<div>\n",
       "<style scoped>\n",
       "    .dataframe tbody tr th:only-of-type {\n",
       "        vertical-align: middle;\n",
       "    }\n",
       "\n",
       "    .dataframe tbody tr th {\n",
       "        vertical-align: top;\n",
       "    }\n",
       "\n",
       "    .dataframe thead th {\n",
       "        text-align: right;\n",
       "    }\n",
       "</style>\n",
       "<table border=\"1\" class=\"dataframe\">\n",
       "  <thead>\n",
       "    <tr style=\"text-align: right;\">\n",
       "      <th></th>\n",
       "      <th>k</th>\n",
       "      <th>Cut-in speed</th>\n",
       "    </tr>\n",
       "  </thead>\n",
       "  <tbody>\n",
       "    <tr>\n",
       "      <th>0</th>\n",
       "      <td>k=2</td>\n",
       "      <td>10.056065</td>\n",
       "    </tr>\n",
       "    <tr>\n",
       "      <th>1</th>\n",
       "      <td>k=4</td>\n",
       "      <td>7.542048</td>\n",
       "    </tr>\n",
       "  </tbody>\n",
       "</table>\n",
       "</div>"
      ],
      "text/plain": [
       "     k  Cut-in speed \n",
       "0  k=2      10.056065\n",
       "1  k=4       7.542048"
      ]
     },
     "execution_count": 87,
     "metadata": {},
     "output_type": "execute_result"
    }
   ],
   "source": [
    "landa_q14 = 12\n",
    "v_cut_k2 = (df_rpm['Omega(rpm)'][df_rpm['k']=='hours k=2'].values[0]*2*math.pi/60)*radius/landa_q14\n",
    "v_cut_k4 = (df_rpm['Omega(rpm)'][df_rpm['k']=='hours k=4'].values[0]*2*math.pi/60)*radius/landa_q14\n",
    "df_v_cut_in = pd.DataFrame(columns=['k','Cut-in speed '])\n",
    "df_v_cut_in.loc[df_v_cut_in.shape[0]] = ['k=2', v_cut_k2]\n",
    "df_v_cut_in.loc[df_v_cut_in.shape[0]] = ['k=4', v_cut_k4]\n",
    "df_v_cut_in"
   ]
  },
  {
   "cell_type": "markdown",
   "metadata": {},
   "source": [
    "<font size=\"6\" color='red'>Question 15</font>"
   ]
  },
  {
   "cell_type": "markdown",
   "metadata": {},
   "source": [
    "<font size=\"6\" color='red'>Question 16</font>"
   ]
  },
  {
   "cell_type": "code",
   "execution_count": 89,
   "metadata": {},
   "outputs": [],
   "source": [
    "frequency = 50\n",
    "n_poles = 2\n",
    "rotation = 60*frequency/n_poles"
   ]
  },
  {
   "cell_type": "code",
   "execution_count": 90,
   "metadata": {},
   "outputs": [
    {
     "data": {
      "text/html": [
       "<div>\n",
       "<style scoped>\n",
       "    .dataframe tbody tr th:only-of-type {\n",
       "        vertical-align: middle;\n",
       "    }\n",
       "\n",
       "    .dataframe tbody tr th {\n",
       "        vertical-align: top;\n",
       "    }\n",
       "\n",
       "    .dataframe thead th {\n",
       "        text-align: right;\n",
       "    }\n",
       "</style>\n",
       "<table border=\"1\" class=\"dataframe\">\n",
       "  <thead>\n",
       "    <tr style=\"text-align: right;\">\n",
       "      <th></th>\n",
       "      <th>k</th>\n",
       "      <th>Rotation(rpm)</th>\n",
       "      <th>Gearbox ratio</th>\n",
       "    </tr>\n",
       "  </thead>\n",
       "  <tbody>\n",
       "    <tr>\n",
       "      <th>0</th>\n",
       "      <td>k=2</td>\n",
       "      <td>25.607558</td>\n",
       "      <td>58.576456</td>\n",
       "    </tr>\n",
       "    <tr>\n",
       "      <th>1</th>\n",
       "      <td>k=4</td>\n",
       "      <td>19.205669</td>\n",
       "      <td>78.101941</td>\n",
       "    </tr>\n",
       "  </tbody>\n",
       "</table>\n",
       "</div>"
      ],
      "text/plain": [
       "     k  Rotation(rpm)  Gearbox ratio\n",
       "0  k=2      25.607558      58.576456\n",
       "1  k=4      19.205669      78.101941"
      ]
     },
     "execution_count": 90,
     "metadata": {},
     "output_type": "execute_result"
    }
   ],
   "source": [
    "df_gearbox = pd.DataFrame(columns=['k','Rotation(rpm)', 'Gearbox ratio'])\n",
    "df_gearbox.loc[df_gearbox.shape[0]] = ['k=2',df_rpm['Omega(rpm)'][df_rpm['k']=='hours k=2'].values[0],rotation/df_rpm['Omega(rpm)'][df_rpm['k']=='hours k=2'].values[0]]\n",
    "df_gearbox.loc[df_gearbox.shape[0]] = ['k=4',df_rpm['Omega(rpm)'][df_rpm['k']=='hours k=4'].values[0],rotation/df_rpm['Omega(rpm)'][df_rpm['k']=='hours k=4'].values[0]]\n",
    "df_gearbox"
   ]
  },
  {
   "cell_type": "code",
   "execution_count": null,
   "metadata": {},
   "outputs": [],
   "source": []
  }
 ],
 "metadata": {
  "kernelspec": {
   "display_name": "Python 3",
   "language": "python",
   "name": "python3"
  },
  "language_info": {
   "codemirror_mode": {
    "name": "ipython",
    "version": 3
   },
   "file_extension": ".py",
   "mimetype": "text/x-python",
   "name": "python",
   "nbconvert_exporter": "python",
   "pygments_lexer": "ipython3",
   "version": "3.7.3"
  }
 },
 "nbformat": 4,
 "nbformat_minor": 2
}
